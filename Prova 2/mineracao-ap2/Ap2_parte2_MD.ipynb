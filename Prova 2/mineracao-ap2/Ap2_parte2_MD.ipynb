{
  "nbformat": 4,
  "nbformat_minor": 0,
  "metadata": {
    "colab": {
      "name": "Ap2_parte2_MD.ipynb",
      "provenance": []
    },
    "kernelspec": {
      "name": "python3",
      "display_name": "Python 3"
    },
    "accelerator": "GPU"
  },
  "cells": [
    {
      "cell_type": "markdown",
      "metadata": {
        "id": "imkgPyWhXc1h",
        "colab_type": "text"
      },
      "source": [
        "# Avaliação Parcial 2 \n",
        "## Mineração de Dados\n",
        "### Michel de melo Vieira\n",
        "### 389959"
      ]
    },
    {
      "cell_type": "code",
      "metadata": {
        "id": "JdSjh4SaVdzH",
        "colab_type": "code",
        "colab": {}
      },
      "source": [
        "import pandas as pd\n",
        "import numpy as np\n",
        "import matplotlib.pyplot as plt"
      ],
      "execution_count": 0,
      "outputs": []
    },
    {
      "cell_type": "code",
      "metadata": {
        "id": "kdIzsedDWAe9",
        "colab_type": "code",
        "colab": {}
      },
      "source": [
        "# Lendo dataset\n",
        "df = pd.read_csv(\"breast_cancer_.csv\");"
      ],
      "execution_count": 0,
      "outputs": []
    },
    {
      "cell_type": "code",
      "metadata": {
        "id": "Ci_30i1cWUpa",
        "colab_type": "code",
        "colab": {
          "base_uri": "https://localhost:8080/",
          "height": 224
        },
        "outputId": "3b344e93-bf53-415a-efa8-01895261e74a"
      },
      "source": [
        "df.head()"
      ],
      "execution_count": 4,
      "outputs": [
        {
          "output_type": "execute_result",
          "data": {
            "text/html": [
              "<div>\n",
              "<style scoped>\n",
              "    .dataframe tbody tr th:only-of-type {\n",
              "        vertical-align: middle;\n",
              "    }\n",
              "\n",
              "    .dataframe tbody tr th {\n",
              "        vertical-align: top;\n",
              "    }\n",
              "\n",
              "    .dataframe thead th {\n",
              "        text-align: right;\n",
              "    }\n",
              "</style>\n",
              "<table border=\"1\" class=\"dataframe\">\n",
              "  <thead>\n",
              "    <tr style=\"text-align: right;\">\n",
              "      <th></th>\n",
              "      <th>0</th>\n",
              "      <th>1</th>\n",
              "      <th>2</th>\n",
              "      <th>3</th>\n",
              "      <th>4</th>\n",
              "      <th>5</th>\n",
              "      <th>6</th>\n",
              "      <th>7</th>\n",
              "      <th>8</th>\n",
              "      <th>9</th>\n",
              "      <th>10</th>\n",
              "      <th>11</th>\n",
              "      <th>12</th>\n",
              "      <th>13</th>\n",
              "      <th>14</th>\n",
              "      <th>15</th>\n",
              "      <th>16</th>\n",
              "      <th>17</th>\n",
              "      <th>18</th>\n",
              "      <th>19</th>\n",
              "      <th>20</th>\n",
              "      <th>21</th>\n",
              "      <th>22</th>\n",
              "      <th>23</th>\n",
              "      <th>24</th>\n",
              "      <th>25</th>\n",
              "      <th>26</th>\n",
              "      <th>27</th>\n",
              "      <th>28</th>\n",
              "      <th>29</th>\n",
              "      <th>30</th>\n",
              "      <th>y</th>\n",
              "    </tr>\n",
              "  </thead>\n",
              "  <tbody>\n",
              "    <tr>\n",
              "      <th>0</th>\n",
              "      <td>17.99</td>\n",
              "      <td>10.38</td>\n",
              "      <td>122.80</td>\n",
              "      <td>1001.0</td>\n",
              "      <td>0.11840</td>\n",
              "      <td>0.27760</td>\n",
              "      <td>0.3001</td>\n",
              "      <td>0.14710</td>\n",
              "      <td>0.2419</td>\n",
              "      <td>0.07871</td>\n",
              "      <td>1.0950</td>\n",
              "      <td>0.9053</td>\n",
              "      <td>8.589</td>\n",
              "      <td>153.40</td>\n",
              "      <td>0.006399</td>\n",
              "      <td>0.04904</td>\n",
              "      <td>NaN</td>\n",
              "      <td>0.01587</td>\n",
              "      <td>0.03003</td>\n",
              "      <td>0.006193</td>\n",
              "      <td>25.38</td>\n",
              "      <td>17.33</td>\n",
              "      <td>184.60</td>\n",
              "      <td>2019.0</td>\n",
              "      <td>0.1622</td>\n",
              "      <td>0.6656</td>\n",
              "      <td>0.7119</td>\n",
              "      <td>0.2654</td>\n",
              "      <td>0.4601</td>\n",
              "      <td>0.11890</td>\n",
              "      <td>0.0</td>\n",
              "      <td>0</td>\n",
              "    </tr>\n",
              "    <tr>\n",
              "      <th>1</th>\n",
              "      <td>20.57</td>\n",
              "      <td>17.77</td>\n",
              "      <td>132.90</td>\n",
              "      <td>1326.0</td>\n",
              "      <td>0.08474</td>\n",
              "      <td>0.07864</td>\n",
              "      <td>0.0869</td>\n",
              "      <td>0.07017</td>\n",
              "      <td>0.1812</td>\n",
              "      <td>0.05667</td>\n",
              "      <td>0.5435</td>\n",
              "      <td>0.7339</td>\n",
              "      <td>3.398</td>\n",
              "      <td>74.08</td>\n",
              "      <td>0.005225</td>\n",
              "      <td>0.01308</td>\n",
              "      <td>0.01860</td>\n",
              "      <td>0.01340</td>\n",
              "      <td>0.01389</td>\n",
              "      <td>0.003532</td>\n",
              "      <td>24.99</td>\n",
              "      <td>23.41</td>\n",
              "      <td>158.80</td>\n",
              "      <td>1956.0</td>\n",
              "      <td>0.1238</td>\n",
              "      <td>0.1866</td>\n",
              "      <td>0.2416</td>\n",
              "      <td>0.1860</td>\n",
              "      <td>0.2750</td>\n",
              "      <td>0.08902</td>\n",
              "      <td>0.0</td>\n",
              "      <td>0</td>\n",
              "    </tr>\n",
              "    <tr>\n",
              "      <th>2</th>\n",
              "      <td>19.69</td>\n",
              "      <td>21.25</td>\n",
              "      <td>130.00</td>\n",
              "      <td>1203.0</td>\n",
              "      <td>0.10960</td>\n",
              "      <td>0.15990</td>\n",
              "      <td>0.1974</td>\n",
              "      <td>0.12790</td>\n",
              "      <td>0.2069</td>\n",
              "      <td>0.05999</td>\n",
              "      <td>0.7456</td>\n",
              "      <td>0.7869</td>\n",
              "      <td>4.585</td>\n",
              "      <td>94.03</td>\n",
              "      <td>0.006150</td>\n",
              "      <td>0.04006</td>\n",
              "      <td>NaN</td>\n",
              "      <td>0.02058</td>\n",
              "      <td>0.02250</td>\n",
              "      <td>0.004571</td>\n",
              "      <td>23.57</td>\n",
              "      <td>25.53</td>\n",
              "      <td>152.50</td>\n",
              "      <td>1709.0</td>\n",
              "      <td>0.1444</td>\n",
              "      <td>0.4245</td>\n",
              "      <td>0.4504</td>\n",
              "      <td>0.2430</td>\n",
              "      <td>0.3613</td>\n",
              "      <td>0.08758</td>\n",
              "      <td>0.0</td>\n",
              "      <td>0</td>\n",
              "    </tr>\n",
              "    <tr>\n",
              "      <th>3</th>\n",
              "      <td>11.42</td>\n",
              "      <td>20.38</td>\n",
              "      <td>77.58</td>\n",
              "      <td>386.1</td>\n",
              "      <td>0.14250</td>\n",
              "      <td>0.28390</td>\n",
              "      <td>0.2414</td>\n",
              "      <td>0.10520</td>\n",
              "      <td>0.2597</td>\n",
              "      <td>0.09744</td>\n",
              "      <td>0.4956</td>\n",
              "      <td>1.1560</td>\n",
              "      <td>3.445</td>\n",
              "      <td>27.23</td>\n",
              "      <td>0.009110</td>\n",
              "      <td>0.07458</td>\n",
              "      <td>0.05661</td>\n",
              "      <td>0.01867</td>\n",
              "      <td>0.05963</td>\n",
              "      <td>0.009208</td>\n",
              "      <td>14.91</td>\n",
              "      <td>26.50</td>\n",
              "      <td>98.87</td>\n",
              "      <td>567.7</td>\n",
              "      <td>0.2098</td>\n",
              "      <td>0.8663</td>\n",
              "      <td>0.6869</td>\n",
              "      <td>0.2575</td>\n",
              "      <td>0.6638</td>\n",
              "      <td>0.17300</td>\n",
              "      <td>NaN</td>\n",
              "      <td>0</td>\n",
              "    </tr>\n",
              "    <tr>\n",
              "      <th>4</th>\n",
              "      <td>20.29</td>\n",
              "      <td>14.34</td>\n",
              "      <td>135.10</td>\n",
              "      <td>1297.0</td>\n",
              "      <td>0.10030</td>\n",
              "      <td>0.13280</td>\n",
              "      <td>0.1980</td>\n",
              "      <td>0.10430</td>\n",
              "      <td>0.1809</td>\n",
              "      <td>0.05883</td>\n",
              "      <td>0.7572</td>\n",
              "      <td>0.7813</td>\n",
              "      <td>5.438</td>\n",
              "      <td>94.44</td>\n",
              "      <td>0.011490</td>\n",
              "      <td>0.02461</td>\n",
              "      <td>0.05688</td>\n",
              "      <td>0.01885</td>\n",
              "      <td>0.01756</td>\n",
              "      <td>0.005115</td>\n",
              "      <td>22.54</td>\n",
              "      <td>16.67</td>\n",
              "      <td>152.20</td>\n",
              "      <td>1575.0</td>\n",
              "      <td>0.1374</td>\n",
              "      <td>0.2050</td>\n",
              "      <td>0.4000</td>\n",
              "      <td>0.1625</td>\n",
              "      <td>0.2364</td>\n",
              "      <td>0.07678</td>\n",
              "      <td>0.0</td>\n",
              "      <td>0</td>\n",
              "    </tr>\n",
              "  </tbody>\n",
              "</table>\n",
              "</div>"
            ],
            "text/plain": [
              "       0      1       2       3        4  ...      27      28       29   30  y\n",
              "0  17.99  10.38  122.80  1001.0  0.11840  ...  0.2654  0.4601  0.11890  0.0  0\n",
              "1  20.57  17.77  132.90  1326.0  0.08474  ...  0.1860  0.2750  0.08902  0.0  0\n",
              "2  19.69  21.25  130.00  1203.0  0.10960  ...  0.2430  0.3613  0.08758  0.0  0\n",
              "3  11.42  20.38   77.58   386.1  0.14250  ...  0.2575  0.6638  0.17300  NaN  0\n",
              "4  20.29  14.34  135.10  1297.0  0.10030  ...  0.1625  0.2364  0.07678  0.0  0\n",
              "\n",
              "[5 rows x 32 columns]"
            ]
          },
          "metadata": {
            "tags": []
          },
          "execution_count": 4
        }
      ]
    },
    {
      "cell_type": "code",
      "metadata": {
        "id": "r8VG0hfaWbCw",
        "colab_type": "code",
        "colab": {}
      },
      "source": [
        "# Ferivicação de valores faltantes por atributo\n",
        "df_nan = df.isna().sum()"
      ],
      "execution_count": 0,
      "outputs": []
    },
    {
      "cell_type": "code",
      "metadata": {
        "id": "Vq5lG1B4W9Hp",
        "colab_type": "code",
        "colab": {}
      },
      "source": [
        "df = df.fillna(np.mean(df,axis=0))"
      ],
      "execution_count": 0,
      "outputs": []
    },
    {
      "cell_type": "code",
      "metadata": {
        "id": "yCjKHJc55p0U",
        "colab_type": "code",
        "colab": {}
      },
      "source": [
        "from sklearn.model_selection import train_test_split"
      ],
      "execution_count": 0,
      "outputs": []
    },
    {
      "cell_type": "code",
      "metadata": {
        "id": "Bq4LLJn35s1A",
        "colab_type": "code",
        "colab": {}
      },
      "source": [
        "# Separando atributos das classes\n",
        "X = df.values[:,:-1]\n",
        "y = df.values[:, -1]"
      ],
      "execution_count": 0,
      "outputs": []
    },
    {
      "cell_type": "code",
      "metadata": {
        "id": "tx0WTNsu5ukE",
        "colab_type": "code",
        "colab": {}
      },
      "source": [
        "# Dividindo o data sete em treino e teste com a funcao train_test_split\n",
        "X_train, X_test, y_train, y_test = train_test_split(X, y, test_size=0.2, random_state=42)\n",
        "X_train_val, X_val, y_train_val, y_val = train_test_split(X_train, y_train, test_size=0.1, random_state=42)"
      ],
      "execution_count": 0,
      "outputs": []
    },
    {
      "cell_type": "code",
      "metadata": {
        "id": "a92FiEC-50IN",
        "colab_type": "code",
        "colab": {}
      },
      "source": [
        "from sklearn.preprocessing import StandardScaler"
      ],
      "execution_count": 0,
      "outputs": []
    },
    {
      "cell_type": "code",
      "metadata": {
        "id": "7XnrRhf851vK",
        "colab_type": "code",
        "colab": {}
      },
      "source": [
        "std = StandardScaler()"
      ],
      "execution_count": 0,
      "outputs": []
    },
    {
      "cell_type": "code",
      "metadata": {
        "id": "askvc6oA53UO",
        "colab_type": "code",
        "colab": {}
      },
      "source": [
        "# Standatizando os atributos\n",
        "X_train_std = std.fit_transform(X_train)\n",
        "X_test_std = std.transform(X_test)\n",
        "X_train_val = std.fit_transform(X_train_val)\n",
        "X_val = std.transform(X_val)"
      ],
      "execution_count": 0,
      "outputs": []
    },
    {
      "cell_type": "code",
      "metadata": {
        "id": "HW_wu-Zp55bj",
        "colab_type": "code",
        "colab": {}
      },
      "source": [
        "from keras.models import Sequential"
      ],
      "execution_count": 0,
      "outputs": []
    },
    {
      "cell_type": "code",
      "metadata": {
        "id": "IuMMClCq9k8u",
        "colab_type": "code",
        "colab": {}
      },
      "source": [
        "from keras.layers import Dense"
      ],
      "execution_count": 0,
      "outputs": []
    },
    {
      "cell_type": "code",
      "metadata": {
        "id": "IexEb_HO58HP",
        "colab_type": "code",
        "colab": {}
      },
      "source": [
        "from sklearn.linear_model import Perceptron"
      ],
      "execution_count": 0,
      "outputs": []
    },
    {
      "cell_type": "code",
      "metadata": {
        "id": "JAldgunb7nfb",
        "colab_type": "code",
        "colab": {}
      },
      "source": [
        "model = Sequential()"
      ],
      "execution_count": 0,
      "outputs": []
    },
    {
      "cell_type": "code",
      "metadata": {
        "id": "SI2LsrE57uBU",
        "colab_type": "code",
        "colab": {}
      },
      "source": [
        "model.add(Dense(30,activation='sigmoid'))\n",
        "model.add(Dense(15,activation='relu'))\n",
        "model.add(Dense(1))"
      ],
      "execution_count": 0,
      "outputs": []
    },
    {
      "cell_type": "code",
      "metadata": {
        "id": "IMvBMrfj9YHR",
        "colab_type": "code",
        "colab": {}
      },
      "source": [
        "model.compile(optimizer='sgd', loss='mse', metrics=['mae','acc'])"
      ],
      "execution_count": 0,
      "outputs": []
    },
    {
      "cell_type": "code",
      "metadata": {
        "id": "iw128N7MCOFv",
        "colab_type": "code",
        "colab": {
          "base_uri": "https://localhost:8080/",
          "height": 1000
        },
        "outputId": "e4b5a6fd-db34-4001-ff48-d6eef2028c18"
      },
      "source": [
        "model.fit(X_train_std,y_train,epochs=30)"
      ],
      "execution_count": 56,
      "outputs": [
        {
          "output_type": "stream",
          "text": [
            "Epoch 1/30\n",
            "455/455 [==============================] - 0s 533us/step - loss: 0.5190 - mean_absolute_error: 0.6124 - acc: 0.4527\n",
            "Epoch 2/30\n",
            "455/455 [==============================] - 0s 102us/step - loss: 0.1807 - mean_absolute_error: 0.3928 - acc: 0.7341\n",
            "Epoch 3/30\n",
            "455/455 [==============================] - 0s 126us/step - loss: 0.1380 - mean_absolute_error: 0.3214 - acc: 0.8066\n",
            "Epoch 4/30\n",
            "455/455 [==============================] - 0s 98us/step - loss: 0.1090 - mean_absolute_error: 0.2745 - acc: 0.8615\n",
            "Epoch 5/30\n",
            "455/455 [==============================] - 0s 90us/step - loss: 0.0915 - mean_absolute_error: 0.2438 - acc: 0.8901\n",
            "Epoch 6/30\n",
            "455/455 [==============================] - 0s 79us/step - loss: 0.0802 - mean_absolute_error: 0.2220 - acc: 0.9077\n",
            "Epoch 7/30\n",
            "455/455 [==============================] - 0s 81us/step - loss: 0.0722 - mean_absolute_error: 0.2070 - acc: 0.9209\n",
            "Epoch 8/30\n",
            "455/455 [==============================] - 0s 80us/step - loss: 0.0669 - mean_absolute_error: 0.1975 - acc: 0.9319\n",
            "Epoch 9/30\n",
            "455/455 [==============================] - 0s 77us/step - loss: 0.0625 - mean_absolute_error: 0.1895 - acc: 0.9407\n",
            "Epoch 10/30\n",
            "455/455 [==============================] - 0s 81us/step - loss: 0.0591 - mean_absolute_error: 0.1840 - acc: 0.9495\n",
            "Epoch 11/30\n",
            "455/455 [==============================] - 0s 74us/step - loss: 0.0560 - mean_absolute_error: 0.1782 - acc: 0.9516\n",
            "Epoch 12/30\n",
            "455/455 [==============================] - 0s 75us/step - loss: 0.0538 - mean_absolute_error: 0.1755 - acc: 0.9538\n",
            "Epoch 13/30\n",
            "455/455 [==============================] - 0s 82us/step - loss: 0.0512 - mean_absolute_error: 0.1697 - acc: 0.9626\n",
            "Epoch 14/30\n",
            "455/455 [==============================] - 0s 77us/step - loss: 0.0492 - mean_absolute_error: 0.1661 - acc: 0.9714\n",
            "Epoch 15/30\n",
            "455/455 [==============================] - 0s 75us/step - loss: 0.0477 - mean_absolute_error: 0.1641 - acc: 0.9714\n",
            "Epoch 16/30\n",
            "455/455 [==============================] - 0s 81us/step - loss: 0.0457 - mean_absolute_error: 0.1597 - acc: 0.9736\n",
            "Epoch 17/30\n",
            "455/455 [==============================] - 0s 74us/step - loss: 0.0443 - mean_absolute_error: 0.1568 - acc: 0.9758\n",
            "Epoch 18/30\n",
            "455/455 [==============================] - 0s 77us/step - loss: 0.0430 - mean_absolute_error: 0.1556 - acc: 0.9758\n",
            "Epoch 19/30\n",
            "455/455 [==============================] - 0s 78us/step - loss: 0.0416 - mean_absolute_error: 0.1516 - acc: 0.9780\n",
            "Epoch 20/30\n",
            "455/455 [==============================] - 0s 75us/step - loss: 0.0406 - mean_absolute_error: 0.1495 - acc: 0.9802\n",
            "Epoch 21/30\n",
            "455/455 [==============================] - 0s 82us/step - loss: 0.0396 - mean_absolute_error: 0.1478 - acc: 0.9824\n",
            "Epoch 22/30\n",
            "455/455 [==============================] - 0s 74us/step - loss: 0.0384 - mean_absolute_error: 0.1463 - acc: 0.9868\n",
            "Epoch 23/30\n",
            "455/455 [==============================] - 0s 76us/step - loss: 0.0376 - mean_absolute_error: 0.1443 - acc: 0.9868\n",
            "Epoch 24/30\n",
            "455/455 [==============================] - 0s 88us/step - loss: 0.0367 - mean_absolute_error: 0.1421 - acc: 0.9868\n",
            "Epoch 25/30\n",
            "455/455 [==============================] - 0s 97us/step - loss: 0.0360 - mean_absolute_error: 0.1414 - acc: 0.9868\n",
            "Epoch 26/30\n",
            "455/455 [==============================] - 0s 97us/step - loss: 0.0351 - mean_absolute_error: 0.1379 - acc: 0.9868\n",
            "Epoch 27/30\n",
            "455/455 [==============================] - 0s 108us/step - loss: 0.0345 - mean_absolute_error: 0.1384 - acc: 0.9890\n",
            "Epoch 28/30\n",
            "455/455 [==============================] - 0s 101us/step - loss: 0.0339 - mean_absolute_error: 0.1365 - acc: 0.9890\n",
            "Epoch 29/30\n",
            "455/455 [==============================] - 0s 116us/step - loss: 0.0332 - mean_absolute_error: 0.1352 - acc: 0.9912\n",
            "Epoch 30/30\n",
            "455/455 [==============================] - 0s 103us/step - loss: 0.0327 - mean_absolute_error: 0.1346 - acc: 0.9912\n"
          ],
          "name": "stdout"
        },
        {
          "output_type": "execute_result",
          "data": {
            "text/plain": [
              "<keras.callbacks.History at 0x7fc9cc14e080>"
            ]
          },
          "metadata": {
            "tags": []
          },
          "execution_count": 56
        }
      ]
    },
    {
      "cell_type": "code",
      "metadata": {
        "id": "pdVjVRsOCtr_",
        "colab_type": "code",
        "colab": {
          "base_uri": "https://localhost:8080/",
          "height": 34
        },
        "outputId": "b20fb367-747e-46e3-c3e5-1d27259206fa"
      },
      "source": [
        "mse, mae, acc = model.evaluate(X_test_std,y_test)"
      ],
      "execution_count": 57,
      "outputs": [
        {
          "output_type": "stream",
          "text": [
            "114/114 [==============================] - 0s 617us/step\n"
          ],
          "name": "stdout"
        }
      ]
    },
    {
      "cell_type": "code",
      "metadata": {
        "id": "mkKHDRyqC1r9",
        "colab_type": "code",
        "colab": {
          "base_uri": "https://localhost:8080/",
          "height": 34
        },
        "outputId": "ea1ab463-6069-4fc1-9766-7e90451c0c5a"
      },
      "source": [
        "mse, mae, acc"
      ],
      "execution_count": 58,
      "outputs": [
        {
          "output_type": "execute_result",
          "data": {
            "text/plain": [
              "(0.029199173183817612, 0.12377018272353892, 0.9824561403508771)"
            ]
          },
          "metadata": {
            "tags": []
          },
          "execution_count": 58
        }
      ]
    },
    {
      "cell_type": "code",
      "metadata": {
        "id": "_pQcBMe9Dt1_",
        "colab_type": "code",
        "colab": {}
      },
      "source": [
        ""
      ],
      "execution_count": 0,
      "outputs": []
    }
  ]
}