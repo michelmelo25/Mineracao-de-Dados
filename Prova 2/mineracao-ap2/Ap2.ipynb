{
 "cells": [
  {
   "cell_type": "code",
   "execution_count": 1,
   "metadata": {},
   "outputs": [],
   "source": [
    "import pandas as pd\n",
    "import numpy as np\n",
    "import matplotlib.pyplot as plt"
   ]
  },
  {
   "cell_type": "code",
   "execution_count": 102,
   "metadata": {},
   "outputs": [],
   "source": [
    "# Lendo dataset\n",
    "df = pd.read_csv(\"breast_cancer_.csv\");"
   ]
  },
  {
   "cell_type": "code",
   "execution_count": 3,
   "metadata": {},
   "outputs": [
    {
     "data": {
      "text/html": [
       "<div>\n",
       "<style scoped>\n",
       "    .dataframe tbody tr th:only-of-type {\n",
       "        vertical-align: middle;\n",
       "    }\n",
       "\n",
       "    .dataframe tbody tr th {\n",
       "        vertical-align: top;\n",
       "    }\n",
       "\n",
       "    .dataframe thead th {\n",
       "        text-align: right;\n",
       "    }\n",
       "</style>\n",
       "<table border=\"1\" class=\"dataframe\">\n",
       "  <thead>\n",
       "    <tr style=\"text-align: right;\">\n",
       "      <th></th>\n",
       "      <th>0</th>\n",
       "      <th>1</th>\n",
       "      <th>2</th>\n",
       "      <th>3</th>\n",
       "      <th>4</th>\n",
       "      <th>5</th>\n",
       "      <th>6</th>\n",
       "      <th>7</th>\n",
       "      <th>8</th>\n",
       "      <th>9</th>\n",
       "      <th>...</th>\n",
       "      <th>22</th>\n",
       "      <th>23</th>\n",
       "      <th>24</th>\n",
       "      <th>25</th>\n",
       "      <th>26</th>\n",
       "      <th>27</th>\n",
       "      <th>28</th>\n",
       "      <th>29</th>\n",
       "      <th>30</th>\n",
       "      <th>y</th>\n",
       "    </tr>\n",
       "  </thead>\n",
       "  <tbody>\n",
       "    <tr>\n",
       "      <th>0</th>\n",
       "      <td>17.99</td>\n",
       "      <td>10.38</td>\n",
       "      <td>122.80</td>\n",
       "      <td>1001.0</td>\n",
       "      <td>0.11840</td>\n",
       "      <td>0.27760</td>\n",
       "      <td>0.3001</td>\n",
       "      <td>0.14710</td>\n",
       "      <td>0.2419</td>\n",
       "      <td>0.07871</td>\n",
       "      <td>...</td>\n",
       "      <td>184.60</td>\n",
       "      <td>2019.0</td>\n",
       "      <td>0.1622</td>\n",
       "      <td>0.6656</td>\n",
       "      <td>0.7119</td>\n",
       "      <td>0.2654</td>\n",
       "      <td>0.4601</td>\n",
       "      <td>0.11890</td>\n",
       "      <td>0.0</td>\n",
       "      <td>0</td>\n",
       "    </tr>\n",
       "    <tr>\n",
       "      <th>1</th>\n",
       "      <td>20.57</td>\n",
       "      <td>17.77</td>\n",
       "      <td>132.90</td>\n",
       "      <td>1326.0</td>\n",
       "      <td>0.08474</td>\n",
       "      <td>0.07864</td>\n",
       "      <td>0.0869</td>\n",
       "      <td>0.07017</td>\n",
       "      <td>0.1812</td>\n",
       "      <td>0.05667</td>\n",
       "      <td>...</td>\n",
       "      <td>158.80</td>\n",
       "      <td>1956.0</td>\n",
       "      <td>0.1238</td>\n",
       "      <td>0.1866</td>\n",
       "      <td>0.2416</td>\n",
       "      <td>0.1860</td>\n",
       "      <td>0.2750</td>\n",
       "      <td>0.08902</td>\n",
       "      <td>0.0</td>\n",
       "      <td>0</td>\n",
       "    </tr>\n",
       "    <tr>\n",
       "      <th>2</th>\n",
       "      <td>19.69</td>\n",
       "      <td>21.25</td>\n",
       "      <td>130.00</td>\n",
       "      <td>1203.0</td>\n",
       "      <td>0.10960</td>\n",
       "      <td>0.15990</td>\n",
       "      <td>0.1974</td>\n",
       "      <td>0.12790</td>\n",
       "      <td>0.2069</td>\n",
       "      <td>0.05999</td>\n",
       "      <td>...</td>\n",
       "      <td>152.50</td>\n",
       "      <td>1709.0</td>\n",
       "      <td>0.1444</td>\n",
       "      <td>0.4245</td>\n",
       "      <td>0.4504</td>\n",
       "      <td>0.2430</td>\n",
       "      <td>0.3613</td>\n",
       "      <td>0.08758</td>\n",
       "      <td>0.0</td>\n",
       "      <td>0</td>\n",
       "    </tr>\n",
       "    <tr>\n",
       "      <th>3</th>\n",
       "      <td>11.42</td>\n",
       "      <td>20.38</td>\n",
       "      <td>77.58</td>\n",
       "      <td>386.1</td>\n",
       "      <td>0.14250</td>\n",
       "      <td>0.28390</td>\n",
       "      <td>0.2414</td>\n",
       "      <td>0.10520</td>\n",
       "      <td>0.2597</td>\n",
       "      <td>0.09744</td>\n",
       "      <td>...</td>\n",
       "      <td>98.87</td>\n",
       "      <td>567.7</td>\n",
       "      <td>0.2098</td>\n",
       "      <td>0.8663</td>\n",
       "      <td>0.6869</td>\n",
       "      <td>0.2575</td>\n",
       "      <td>0.6638</td>\n",
       "      <td>0.17300</td>\n",
       "      <td>NaN</td>\n",
       "      <td>0</td>\n",
       "    </tr>\n",
       "    <tr>\n",
       "      <th>4</th>\n",
       "      <td>20.29</td>\n",
       "      <td>14.34</td>\n",
       "      <td>135.10</td>\n",
       "      <td>1297.0</td>\n",
       "      <td>0.10030</td>\n",
       "      <td>0.13280</td>\n",
       "      <td>0.1980</td>\n",
       "      <td>0.10430</td>\n",
       "      <td>0.1809</td>\n",
       "      <td>0.05883</td>\n",
       "      <td>...</td>\n",
       "      <td>152.20</td>\n",
       "      <td>1575.0</td>\n",
       "      <td>0.1374</td>\n",
       "      <td>0.2050</td>\n",
       "      <td>0.4000</td>\n",
       "      <td>0.1625</td>\n",
       "      <td>0.2364</td>\n",
       "      <td>0.07678</td>\n",
       "      <td>0.0</td>\n",
       "      <td>0</td>\n",
       "    </tr>\n",
       "  </tbody>\n",
       "</table>\n",
       "<p>5 rows × 32 columns</p>\n",
       "</div>"
      ],
      "text/plain": [
       "       0      1       2       3        4        5       6        7       8  \\\n",
       "0  17.99  10.38  122.80  1001.0  0.11840  0.27760  0.3001  0.14710  0.2419   \n",
       "1  20.57  17.77  132.90  1326.0  0.08474  0.07864  0.0869  0.07017  0.1812   \n",
       "2  19.69  21.25  130.00  1203.0  0.10960  0.15990  0.1974  0.12790  0.2069   \n",
       "3  11.42  20.38   77.58   386.1  0.14250  0.28390  0.2414  0.10520  0.2597   \n",
       "4  20.29  14.34  135.10  1297.0  0.10030  0.13280  0.1980  0.10430  0.1809   \n",
       "\n",
       "         9  ...      22      23      24      25      26      27      28  \\\n",
       "0  0.07871  ...  184.60  2019.0  0.1622  0.6656  0.7119  0.2654  0.4601   \n",
       "1  0.05667  ...  158.80  1956.0  0.1238  0.1866  0.2416  0.1860  0.2750   \n",
       "2  0.05999  ...  152.50  1709.0  0.1444  0.4245  0.4504  0.2430  0.3613   \n",
       "3  0.09744  ...   98.87   567.7  0.2098  0.8663  0.6869  0.2575  0.6638   \n",
       "4  0.05883  ...  152.20  1575.0  0.1374  0.2050  0.4000  0.1625  0.2364   \n",
       "\n",
       "        29   30  y  \n",
       "0  0.11890  0.0  0  \n",
       "1  0.08902  0.0  0  \n",
       "2  0.08758  0.0  0  \n",
       "3  0.17300  NaN  0  \n",
       "4  0.07678  0.0  0  \n",
       "\n",
       "[5 rows x 32 columns]"
      ]
     },
     "execution_count": 3,
     "metadata": {},
     "output_type": "execute_result"
    }
   ],
   "source": [
    "df.head()"
   ]
  },
  {
   "cell_type": "code",
   "execution_count": 4,
   "metadata": {},
   "outputs": [],
   "source": [
    "# Ferivicação de valores faltantes por atributo\n",
    "df_nan = df.isna().sum()"
   ]
  },
  {
   "cell_type": "code",
   "execution_count": 42,
   "metadata": {},
   "outputs": [
    {
     "data": {
      "image/png": "[encoded data removed]",
      "text/plain": [
       "<Figure size 432x288 with 1 Axes>"
      ]
     },
     "metadata": {
      "needs_background": "light"
     },
     "output_type": "display_data"
    }
   ],
   "source": [
    "# Grafico dos valores faltantes por atributo\n",
    "plt.bar(range(0,32),df_nan);"
   ]
  },
  {
   "cell_type": "code",
   "execution_count": 103,
   "metadata": {},
   "outputs": [],
   "source": [
    "# Aplicando o calor medio da caluna para os atribulos faltantes\n",
    "df = df.fillna(np.mean(df,axis=0))"
   ]
  },
  {
   "cell_type": "code",
   "execution_count": 56,
   "metadata": {},
   "outputs": [
    {
     "data": {
      "image/png": "[encoded data removed]",
      "text/plain": [
       "<Figure size 432x288 with 1 Axes>"
      ]
     },
     "metadata": {
      "needs_background": "light"
     },
     "output_type": "display_data"
    }
   ],
   "source": [
    "# Todos os valores faltantes foram preenchidos \n",
    "plt.bar(range(0,32),df.isna().sum());"
   ]
  },
  {
   "cell_type": "code",
   "execution_count": 58,
   "metadata": {},
   "outputs": [],
   "source": [
    "from sklearn.model_selection import train_test_split"
   ]
  },
  {
   "cell_type": "code",
   "execution_count": 104,
   "metadata": {},
   "outputs": [],
   "source": [
    "# Separando atributos das classes\n",
    "X = df.values[:,:-1]\n",
    "y = df.values[:, -1]"
   ]
  },
  {
   "cell_type": "code",
   "execution_count": 105,
   "metadata": {},
   "outputs": [],
   "source": [
    "# Dividindo o data sete em treino e teste com a funcao train_test_split\n",
    "X_train, X_test, y_train, y_test = train_test_split(X, y, test_size=0.2, random_state=42)\n",
    "X_train_val, X_val, y_train_val, y_val = train_test_split(X_train, y_train, test_size=0.1, random_state=42)"
   ]
  },
  {
   "cell_type": "code",
   "execution_count": 72,
   "metadata": {},
   "outputs": [],
   "source": [
    "# Para a padronização dos atributos, foi escolhida a stantartização. \n",
    "# Essa tecnica de padronização se moutro mais eficiente em praticas anteriores"
   ]
  },
  {
   "cell_type": "code",
   "execution_count": 65,
   "metadata": {},
   "outputs": [],
   "source": [
    "from sklearn.preprocessing import StandardScaler"
   ]
  },
  {
   "cell_type": "code",
   "execution_count": 68,
   "metadata": {},
   "outputs": [],
   "source": [
    "std = StandardScaler()"
   ]
  },
  {
   "cell_type": "code",
   "execution_count": 106,
   "metadata": {},
   "outputs": [],
   "source": [
    "# Standatizando os atributos\n",
    "X_train_std = std.fit_transform(X_train)\n",
    "X_test_std = std.transform(X_test)\n",
    "X_train_val = std.fit_transform(X_train_val)\n",
    "X_val = std.transform(X_val)"
   ]
  },
  {
   "cell_type": "code",
   "execution_count": null,
   "metadata": {},
   "outputs": [],
   "source": []
  },
  {
   "cell_type": "code",
   "execution_count": 125,
   "metadata": {},
   "outputs": [],
   "source": [
    "from sklearn.ensemble import BaggingClassifier\n",
    "from sklearn.ensemble import RandomForestClassifier\n",
    "from sklearn.tree import DecisionTreeClassifier\n",
    "from sklearn.ensemble import GradientBoostingClassifier"
   ]
  },
  {
   "cell_type": "code",
   "execution_count": 73,
   "metadata": {},
   "outputs": [],
   "source": [
    "from sklearn.model_selection import KFold\n",
    "from sklearn.model_selection import cross_val_score\n",
    "from sklearn.pipeline import Pipeline"
   ]
  },
  {
   "cell_type": "code",
   "execution_count": 100,
   "metadata": {},
   "outputs": [],
   "source": [
    "Dtrees = {\"DTC1\": DecisionTreeClassifier(criterion='entropy', max_depth=3),\n",
    "          \"DTC2\": DecisionTreeClassifier(criterion='entropy', max_depth=5),\n",
    "          \"DTC3\": DecisionTreeClassifier(criterion='entropy', max_depth=7)\n",
    "         }"
   ]
  },
  {
   "cell_type": "code",
   "execution_count": 113,
   "metadata": {},
   "outputs": [
    {
     "name": "stdout",
     "output_type": "stream",
     "text": [
      "DTC1 0.9926828395591812\n",
      "DTC2 0.9853477887505367\n",
      "DTC3 0.9926828395591812\n"
     ]
    }
   ],
   "source": [
    "# scoresDT = {}\n",
    "# kf = KFold(n_splits=3)\n",
    "# for dtc in Dtrees:\n",
    "#     scores = cross_val_score(Dtrees[dtc], X_train_val, y_train_val, cv=kf)\n",
    "#     scoresRF[dtc] = np.mean(scores) \n",
    "#     print(dtc, scoresRF[dtc])"
   ]
  },
  {
   "cell_type": "code",
   "execution_count": 108,
   "metadata": {},
   "outputs": [],
   "source": [
    "Randons = {\"RF1\": RandomForestClassifier(n_estimators=50,max_depth=3),\n",
    "           \"RF2\": RandomForestClassifier(n_estimators=50,max_depth=5),\n",
    "           \"RF3\": RandomForestClassifier(n_estimators=50,max_depth=7),\n",
    "           \"RF4\": RandomForestClassifier(n_estimators=100,max_depth=3),\n",
    "           \"RF5\": RandomForestClassifier(n_estimators=100,max_depth=5),\n",
    "           \"RF6\": RandomForestClassifier(n_estimators=100,max_depth=7),\n",
    "           \"RF7\": RandomForestClassifier(n_estimators=200,max_depth=3),\n",
    "           \"RF8\": RandomForestClassifier(n_estimators=200,max_depth=5),\n",
    "           \"RF9\": RandomForestClassifier(n_estimators=200,max_depth=7)\n",
    "         }"
   ]
  },
  {
   "cell_type": "code",
   "execution_count": 111,
   "metadata": {},
   "outputs": [
    {
     "name": "stdout",
     "output_type": "stream",
     "text": [
      "RF1 0.9779948475740662\n",
      "RF2 0.9926649491913554\n",
      "RF3 0.9901960784313726\n",
      "RF4 0.9877808787748675\n",
      "RF5 0.9926649491913554\n",
      "RF6 0.9828789179905538\n",
      "RF7 0.9877808787748675\n",
      "RF8 0.9877808787748675\n",
      "RF9 0.9853298983827107\n"
     ]
    }
   ],
   "source": [
    "scoresRF = {}\n",
    "kf = KFold(n_splits=3)\n",
    "for rfc in Randons:\n",
    "    scores = cross_val_score(Randons[rfc], X_train_val, y_train_val, cv=kf)\n",
    "    scoresRF[rfc] = np.mean(scores)\n",
    "    print(rfc, scoresRF[rfc])"
   ]
  },
  {
   "cell_type": "code",
   "execution_count": 152,
   "metadata": {},
   "outputs": [
    {
     "data": {
      "text/plain": [
       "[<matplotlib.lines.Line2D at 0x7fe477635a58>]"
      ]
     },
     "execution_count": 152,
     "metadata": {},
     "output_type": "execute_result"
    },
    {
     "data": {
      "image/png": "[encoded data removed]",
      "text/plain": [
       "<Figure size 432x288 with 1 Axes>"
      ]
     },
     "metadata": {
      "needs_background": "light"
     },
     "output_type": "display_data"
    }
   ],
   "source": [
    "plt.plot(scoresRF.keys(),scoresRF.values())"
   ]
  },
  {
   "cell_type": "code",
   "execution_count": 124,
   "metadata": {},
   "outputs": [
    {
     "name": "stdout",
     "output_type": "stream",
     "text": [
      "DTC1 | Stimator: 50 | ACC: 0.9950980392156863\n",
      "DTC1 | Stimator: 100 | ACC: 0.9950980392156863\n",
      "DTC1 | Stimator: 200 | ACC: 0.9950980392156863\n",
      "DTC2 | Stimator: 50 | ACC: 0.9950980392156863\n",
      "DTC2 | Stimator: 100 | ACC: 0.9950980392156863\n",
      "DTC2 | Stimator: 200 | ACC: 0.9950980392156863\n",
      "DTC3 | Stimator: 50 | ACC: 0.9950980392156863\n",
      "DTC3 | Stimator: 100 | ACC: 0.9950980392156863\n",
      "DTC3 | Stimator: 200 | ACC: 0.9950980392156863\n"
     ]
    }
   ],
   "source": [
    "kf = KFold(n_splits=3)\n",
    "for dtc in Dtrees:\n",
    "    for stim in [50,100,200]:\n",
    "        bc = BaggingClassifier(base_estimator=Dtrees[dtc], n_estimators=stim)\n",
    "        scores = cross_val_score(bc, X_train_val, y_train_val, cv=kf)\n",
    "        print(dtc,'| Stimator:', stim,'| ACC:', np.mean(scores))"
   ]
  },
  {
   "cell_type": "code",
   "execution_count": null,
   "metadata": {},
   "outputs": [],
   "source": [
    "# Todas as execucoes da DecisionTree obtiveram a mesma acuracia, por tanto ficaremos com os hiper-paramentros \n",
    "# de menor tempo de execucao (criterion='entropy', max_depth=3)"
   ]
  },
  {
   "cell_type": "code",
   "execution_count": 122,
   "metadata": {},
   "outputs": [],
   "source": [
    "# Com a maioria dos testes contendo a mesma acuracia, \n",
    "# foi escolhido os hiper-parametros para a RandomForest (n_stimators: 50, max_depth: 3) \n",
    "# e um n_stimators: 50 para o bagging pela velociade de execucao"
   ]
  },
  {
   "cell_type": "code",
   "execution_count": 133,
   "metadata": {},
   "outputs": [],
   "source": [
    "GBoosts = {\"GBC1\": GradientBoostingClassifier(learning_rate=0.1,n_estimators=50,max_depth=3),\n",
    "       \"GBC2\": GradientBoostingClassifier(learning_rate=0.1,n_estimators=50,max_depth=5),\n",
    "       \"GBC3\": GradientBoostingClassifier(learning_rate=0.1,n_estimators=50,max_depth=7),\n",
    "       \"GBC4\": GradientBoostingClassifier(learning_rate=0.1,n_estimators=100,max_depth=3),\n",
    "       \"GBC5\": GradientBoostingClassifier(learning_rate=0.1,n_estimators=100,max_depth=5),\n",
    "       \"GBC6\": GradientBoostingClassifier(learning_rate=0.1,n_estimators=100,max_depth=7),\n",
    "       \"GBC7\": GradientBoostingClassifier(learning_rate=0.1,n_estimators=200,max_depth=3),\n",
    "       \"GBC8\": GradientBoostingClassifier(learning_rate=0.1,n_estimators=200,max_depth=5),\n",
    "       \"GBC9\": GradientBoostingClassifier(learning_rate=0.1,n_estimators=200,max_depth=7),\n",
    "       \"GBC10\": GradientBoostingClassifier(learning_rate=0.01,n_estimators=50,max_depth=3),\n",
    "       \"GBC11\": GradientBoostingClassifier(learning_rate=0.01,n_estimators=50,max_depth=5),\n",
    "       \"GBC12\": GradientBoostingClassifier(learning_rate=0.01,n_estimators=50,max_depth=7),\n",
    "       \"GBC13\": GradientBoostingClassifier(learning_rate=0.01,n_estimators=100,max_depth=3),\n",
    "       \"GBC14\": GradientBoostingClassifier(learning_rate=0.01,n_estimators=100,max_depth=5),\n",
    "       \"GBC15\": GradientBoostingClassifier(learning_rate=0.01,n_estimators=100,max_depth=7),\n",
    "       \"GBC16\": GradientBoostingClassifier(learning_rate=0.01,n_estimators=200,max_depth=3),\n",
    "       \"GBC17\": GradientBoostingClassifier(learning_rate=0.01,n_estimators=200,max_depth=5),\n",
    "       \"GBC18\": GradientBoostingClassifier(learning_rate=0.01,n_estimators=200,max_depth=7),\n",
    "       \"GBC19\": GradientBoostingClassifier(learning_rate=0.05,n_estimators=50,max_depth=3),\n",
    "       \"GBC20\": GradientBoostingClassifier(learning_rate=0.05,n_estimators=50,max_depth=5),\n",
    "       \"GBC21\": GradientBoostingClassifier(learning_rate=0.05,n_estimators=50,max_depth=7),\n",
    "       \"GBC22\": GradientBoostingClassifier(learning_rate=0.05,n_estimators=100,max_depth=3),\n",
    "       \"GBC23\": GradientBoostingClassifier(learning_rate=0.05,n_estimators=100,max_depth=5),\n",
    "       \"GBC24\": GradientBoostingClassifier(learning_rate=0.05,n_estimators=100,max_depth=7),\n",
    "       \"GBC25\": GradientBoostingClassifier(learning_rate=0.05,n_estimators=200,max_depth=3),\n",
    "       \"GBC26\": GradientBoostingClassifier(learning_rate=0.05,n_estimators=200,max_depth=5),\n",
    "       \"GBC27\": GradientBoostingClassifier(learning_rate=0.05,n_estimators=200,max_depth=7),\n",
    "        }"
   ]
  },
  {
   "cell_type": "code",
   "execution_count": 137,
   "metadata": {},
   "outputs": [
    {
     "name": "stdout",
     "output_type": "stream",
     "text": [
      "GBC1 0.9878166595105196\n",
      "GBC2 0.9853656791183627\n",
      "GBC3 0.9853656791183627\n",
      "GBC4 0.9878166595105196\n",
      "GBC5 0.9853656791183627\n",
      "GBC6 0.9853656791183627\n",
      "GBC7 0.9878166595105196\n",
      "GBC8 0.9853656791183627\n",
      "GBC9 0.9853656791183627\n",
      "GBC10 0.9853656791183627\n",
      "GBC11 0.9853656791183627\n",
      "GBC12 0.9853656791183627\n",
      "GBC13 0.9853656791183627\n",
      "GBC14 0.9853656791183627\n",
      "GBC15 0.9853656791183627\n",
      "GBC16 0.9853656791183627\n",
      "GBC17 0.9853656791183627\n",
      "GBC18 0.9853656791183627\n",
      "GBC19 0.9878166595105196\n",
      "GBC20 0.9853656791183627\n",
      "GBC21 0.9853656791183627\n",
      "GBC22 0.9878166595105196\n",
      "GBC23 0.9853656791183627\n",
      "GBC24 0.9829325890940318\n",
      "GBC25 0.9878166595105196\n",
      "GBC26 0.9853656791183627\n",
      "GBC27 0.9853656791183627\n"
     ]
    }
   ],
   "source": [
    "scoresGB = {}\n",
    "kf = KFold(n_splits=3)\n",
    "for gbc in GBoosts:\n",
    "    scores = cross_val_score(GBoosts[gbc], X_train_val, y_train_val, cv=kf)\n",
    "    scoresGB[gbc] = np.mean(scores)\n",
    "    print(gbc, np.mean(scores))"
   ]
  },
  {
   "cell_type": "code",
   "execution_count": 151,
   "metadata": {},
   "outputs": [
    {
     "data": {
      "image/png": "[encoded data removed]",
      "text/plain": [
       "<Figure size 432x288 with 1 Axes>"
      ]
     },
     "metadata": {
      "needs_background": "light"
     },
     "output_type": "display_data"
    }
   ],
   "source": [
    "plt.plot(scoresGB.keys(),scoresGB.values());"
   ]
  },
  {
   "cell_type": "code",
   "execution_count": 162,
   "metadata": {},
   "outputs": [],
   "source": [
    "model_dtc = DecisionTreeClassifier(criterion='entropy', max_depth=3)\n",
    "model_GBoost = GradientBoostingClassifier(learning_rate=0.1,n_estimators=50,max_depth=3)\n",
    "model_RF = RandomForestClassifier(n_estimators=50,max_depth=5)"
   ]
  },
  {
   "cell_type": "code",
   "execution_count": 163,
   "metadata": {},
   "outputs": [],
   "source": [
    "bc = BaggingClassifier(base_estimator=model_dtc, n_estimators=50)\n",
    "bc.fit(X_train_std,y_train)\n",
    "y_pred_DT = bc.predict(X_test_std)"
   ]
  },
  {
   "cell_type": "code",
   "execution_count": 164,
   "metadata": {},
   "outputs": [],
   "source": [
    "model_RF.fit(X_train_std,y_train)\n",
    "y_pred_RF = model_RF.predict(X_test_std)"
   ]
  },
  {
   "cell_type": "code",
   "execution_count": 165,
   "metadata": {},
   "outputs": [],
   "source": [
    "model_GBoost.fit(X_train_std,y_train)\n",
    "y_pred_GB = model_GBoost.predict(X_test_std)"
   ]
  },
  {
   "cell_type": "code",
   "execution_count": 166,
   "metadata": {},
   "outputs": [],
   "source": [
    "from sklearn.metrics import accuracy_score\n",
    "from sklearn.metrics import precision_score\n",
    "from sklearn.metrics import recall_score"
   ]
  },
  {
   "cell_type": "code",
   "execution_count": 167,
   "metadata": {},
   "outputs": [
    {
     "name": "stdout",
     "output_type": "stream",
     "text": [
      "Decision Tree Classifier\n",
      "Acuracia:  1.0\n",
      "Prescision:  1.0\n",
      "Recall:  1.0\n"
     ]
    }
   ],
   "source": [
    "print(\"Decision Tree Classifier\")\n",
    "print(\"Acuracia: \", accuracy_score(y_test,y_pred_DT))\n",
    "print(\"Prescision: \", precision_score(y_test,y_pred_DT))\n",
    "print(\"Recall: \", recall_score(y_test, y_pred_DT))"
   ]
  },
  {
   "cell_type": "code",
   "execution_count": 168,
   "metadata": {},
   "outputs": [
    {
     "name": "stdout",
     "output_type": "stream",
     "text": [
      "Gradient Boosting Classifier\n",
      "Acuracia:  1.0\n",
      "Prescision:  1.0\n",
      "Recall:  1.0\n"
     ]
    }
   ],
   "source": [
    "print(\"Gradient Boosting Classifier\")\n",
    "print(\"Acuracia: \", accuracy_score(y_test,y_pred_GB))\n",
    "print(\"Prescision: \", precision_score(y_test,y_pred_GB))\n",
    "print(\"Recall: \", recall_score(y_test, y_pred_GB))"
   ]
  },
  {
   "cell_type": "code",
   "execution_count": 169,
   "metadata": {},
   "outputs": [
    {
     "name": "stdout",
     "output_type": "stream",
     "text": [
      "Random Forest Classifier\n",
      "Acuracia:  1.0\n",
      "Prescision:  1.0\n",
      "Recall:  1.0\n"
     ]
    }
   ],
   "source": [
    "print(\"Random Forest Classifier\")\n",
    "print(\"Acuracia: \", accuracy_score(y_test,y_pred_RF))\n",
    "print(\"Prescision: \", precision_score(y_test,y_pred_RF))\n",
    "print(\"Recall: \", recall_score(y_test, y_pred_RF))"
   ]
  },
  {
   "cell_type": "code",
   "execution_count": null,
   "metadata": {},
   "outputs": [],
   "source": []
  }
 ],
 "metadata": {
  "kernelspec": {
   "display_name": "Python 3",
   "language": "python",
   "name": "python3"
  },
  "language_info": {
   "codemirror_mode": {
    "name": "ipython",
    "version": 3
   },
   "file_extension": ".py",
   "mimetype": "text/x-python",
   "name": "python",
   "nbconvert_exporter": "python",
   "pygments_lexer": "ipython3",
   "version": "3.7.3"
  }
 },
 "nbformat": 4,
 "nbformat_minor": 2
}
