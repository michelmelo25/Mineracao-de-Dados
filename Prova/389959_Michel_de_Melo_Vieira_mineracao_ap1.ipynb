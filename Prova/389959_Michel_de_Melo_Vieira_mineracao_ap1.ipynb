{
 "cells": [
  {
   "cell_type": "code",
   "execution_count": 1,
   "metadata": {},
   "outputs": [],
   "source": [
    "import pandas as pd\n",
    "import numpy as np"
   ]
  },
  {
   "cell_type": "code",
   "execution_count": 84,
   "metadata": {},
   "outputs": [],
   "source": [
    "df = pd.read_csv('wine_ap1.csv')"
   ]
  },
  {
   "cell_type": "code",
   "execution_count": 6,
   "metadata": {},
   "outputs": [
    {
     "data": {
      "text/html": [
       "<div>\n",
       "<style scoped>\n",
       "    .dataframe tbody tr th:only-of-type {\n",
       "        vertical-align: middle;\n",
       "    }\n",
       "\n",
       "    .dataframe tbody tr th {\n",
       "        vertical-align: top;\n",
       "    }\n",
       "\n",
       "    .dataframe thead th {\n",
       "        text-align: right;\n",
       "    }\n",
       "</style>\n",
       "<table border=\"1\" class=\"dataframe\">\n",
       "  <thead>\n",
       "    <tr style=\"text-align: right;\">\n",
       "      <th></th>\n",
       "      <th>Unnamed: 0</th>\n",
       "      <th>alcohol</th>\n",
       "      <th>malic_acid</th>\n",
       "      <th>ash</th>\n",
       "      <th>alcalinity_of_ash</th>\n",
       "      <th>magnesium</th>\n",
       "      <th>total_phenols</th>\n",
       "      <th>flavanoids</th>\n",
       "      <th>nonflavanoid_phenols</th>\n",
       "      <th>proanthocyanins</th>\n",
       "      <th>color_intensity</th>\n",
       "      <th>hue</th>\n",
       "      <th>od280/od315_of_diluted_wines</th>\n",
       "      <th>proline</th>\n",
       "      <th>y</th>\n",
       "    </tr>\n",
       "  </thead>\n",
       "  <tbody>\n",
       "    <tr>\n",
       "      <th>0</th>\n",
       "      <td>0</td>\n",
       "      <td>14.23</td>\n",
       "      <td>1.71</td>\n",
       "      <td>2.43</td>\n",
       "      <td>15.6</td>\n",
       "      <td>127.0</td>\n",
       "      <td>2.80</td>\n",
       "      <td>3.06</td>\n",
       "      <td>0.28</td>\n",
       "      <td>2.29</td>\n",
       "      <td>5.64</td>\n",
       "      <td>1.04</td>\n",
       "      <td>3.92</td>\n",
       "      <td>1065.0</td>\n",
       "      <td>0</td>\n",
       "    </tr>\n",
       "    <tr>\n",
       "      <th>1</th>\n",
       "      <td>1</td>\n",
       "      <td>13.20</td>\n",
       "      <td>1.78</td>\n",
       "      <td>2.14</td>\n",
       "      <td>11.2</td>\n",
       "      <td>100.0</td>\n",
       "      <td>2.65</td>\n",
       "      <td>2.76</td>\n",
       "      <td>0.26</td>\n",
       "      <td>1.28</td>\n",
       "      <td>4.38</td>\n",
       "      <td>1.05</td>\n",
       "      <td>3.40</td>\n",
       "      <td>1050.0</td>\n",
       "      <td>0</td>\n",
       "    </tr>\n",
       "    <tr>\n",
       "      <th>2</th>\n",
       "      <td>2</td>\n",
       "      <td>13.16</td>\n",
       "      <td>2.36</td>\n",
       "      <td>2.67</td>\n",
       "      <td>18.6</td>\n",
       "      <td>101.0</td>\n",
       "      <td>2.80</td>\n",
       "      <td>3.24</td>\n",
       "      <td>0.30</td>\n",
       "      <td>2.81</td>\n",
       "      <td>5.68</td>\n",
       "      <td>1.03</td>\n",
       "      <td>3.17</td>\n",
       "      <td>1185.0</td>\n",
       "      <td>0</td>\n",
       "    </tr>\n",
       "    <tr>\n",
       "      <th>3</th>\n",
       "      <td>3</td>\n",
       "      <td>14.37</td>\n",
       "      <td>1.95</td>\n",
       "      <td>2.50</td>\n",
       "      <td>16.8</td>\n",
       "      <td>113.0</td>\n",
       "      <td>3.85</td>\n",
       "      <td>3.49</td>\n",
       "      <td>0.24</td>\n",
       "      <td>2.18</td>\n",
       "      <td>7.80</td>\n",
       "      <td>0.86</td>\n",
       "      <td>3.45</td>\n",
       "      <td>1480.0</td>\n",
       "      <td>0</td>\n",
       "    </tr>\n",
       "    <tr>\n",
       "      <th>4</th>\n",
       "      <td>4</td>\n",
       "      <td>13.24</td>\n",
       "      <td>NaN</td>\n",
       "      <td>NaN</td>\n",
       "      <td>21.0</td>\n",
       "      <td>118.0</td>\n",
       "      <td>2.80</td>\n",
       "      <td>2.69</td>\n",
       "      <td>0.39</td>\n",
       "      <td>1.82</td>\n",
       "      <td>4.32</td>\n",
       "      <td>1.04</td>\n",
       "      <td>2.93</td>\n",
       "      <td>735.0</td>\n",
       "      <td>0</td>\n",
       "    </tr>\n",
       "  </tbody>\n",
       "</table>\n",
       "</div>"
      ],
      "text/plain": [
       "   Unnamed: 0  alcohol  malic_acid   ash  alcalinity_of_ash  magnesium  \\\n",
       "0           0    14.23        1.71  2.43               15.6      127.0   \n",
       "1           1    13.20        1.78  2.14               11.2      100.0   \n",
       "2           2    13.16        2.36  2.67               18.6      101.0   \n",
       "3           3    14.37        1.95  2.50               16.8      113.0   \n",
       "4           4    13.24         NaN   NaN               21.0      118.0   \n",
       "\n",
       "   total_phenols  flavanoids  nonflavanoid_phenols  proanthocyanins  \\\n",
       "0           2.80        3.06                  0.28             2.29   \n",
       "1           2.65        2.76                  0.26             1.28   \n",
       "2           2.80        3.24                  0.30             2.81   \n",
       "3           3.85        3.49                  0.24             2.18   \n",
       "4           2.80        2.69                  0.39             1.82   \n",
       "\n",
       "   color_intensity   hue  od280/od315_of_diluted_wines  proline  y  \n",
       "0             5.64  1.04                          3.92   1065.0  0  \n",
       "1             4.38  1.05                          3.40   1050.0  0  \n",
       "2             5.68  1.03                          3.17   1185.0  0  \n",
       "3             7.80  0.86                          3.45   1480.0  0  \n",
       "4             4.32  1.04                          2.93    735.0  0  "
      ]
     },
     "execution_count": 6,
     "metadata": {},
     "output_type": "execute_result"
    }
   ],
   "source": [
    "df.head()"
   ]
  },
  {
   "cell_type": "code",
   "execution_count": 9,
   "metadata": {},
   "outputs": [
    {
     "data": {
      "text/plain": [
       "(178, 15)"
      ]
     },
     "execution_count": 9,
     "metadata": {},
     "output_type": "execute_result"
    }
   ],
   "source": [
    "df.shape"
   ]
  },
  {
   "cell_type": "code",
   "execution_count": 8,
   "metadata": {},
   "outputs": [
    {
     "data": {
      "text/plain": [
       "Unnamed: 0                       0\n",
       "alcohol                          9\n",
       "malic_acid                      11\n",
       "ash                              6\n",
       "alcalinity_of_ash                9\n",
       "magnesium                       13\n",
       "total_phenols                    9\n",
       "flavanoids                      13\n",
       "nonflavanoid_phenols            13\n",
       "proanthocyanins                 11\n",
       "color_intensity                  7\n",
       "hue                             13\n",
       "od280/od315_of_diluted_wines     6\n",
       "proline                          8\n",
       "y                                0\n",
       "dtype: int64"
      ]
     },
     "execution_count": 8,
     "metadata": {},
     "output_type": "execute_result"
    }
   ],
   "source": [
    "df.isna().sum()"
   ]
  },
  {
   "cell_type": "code",
   "execution_count": 10,
   "metadata": {},
   "outputs": [
    {
     "data": {
      "text/plain": [
       "Index(['Unnamed: 0', 'alcohol', 'malic_acid', 'ash', 'alcalinity_of_ash',\n",
       "       'magnesium', 'total_phenols', 'flavanoids', 'nonflavanoid_phenols',\n",
       "       'proanthocyanins', 'color_intensity', 'hue',\n",
       "       'od280/od315_of_diluted_wines', 'proline', 'y'],\n",
       "      dtype='object')"
      ]
     },
     "execution_count": 10,
     "metadata": {},
     "output_type": "execute_result"
    }
   ],
   "source": [
    "df.columns"
   ]
  },
  {
   "cell_type": "code",
   "execution_count": 85,
   "metadata": {},
   "outputs": [],
   "source": [
    "df = df.drop(columns='Unnamed: 0')"
   ]
  },
  {
   "cell_type": "code",
   "execution_count": 86,
   "metadata": {
    "scrolled": true
   },
   "outputs": [],
   "source": [
    "df = df.fillna(df.mean())"
   ]
  },
  {
   "cell_type": "code",
   "execution_count": 87,
   "metadata": {
    "scrolled": false
   },
   "outputs": [
    {
     "data": {
      "text/html": [
       "<div>\n",
       "<style scoped>\n",
       "    .dataframe tbody tr th:only-of-type {\n",
       "        vertical-align: middle;\n",
       "    }\n",
       "\n",
       "    .dataframe tbody tr th {\n",
       "        vertical-align: top;\n",
       "    }\n",
       "\n",
       "    .dataframe thead th {\n",
       "        text-align: right;\n",
       "    }\n",
       "</style>\n",
       "<table border=\"1\" class=\"dataframe\">\n",
       "  <thead>\n",
       "    <tr style=\"text-align: right;\">\n",
       "      <th></th>\n",
       "      <th>alcohol</th>\n",
       "      <th>malic_acid</th>\n",
       "      <th>ash</th>\n",
       "      <th>alcalinity_of_ash</th>\n",
       "      <th>magnesium</th>\n",
       "      <th>total_phenols</th>\n",
       "      <th>flavanoids</th>\n",
       "      <th>nonflavanoid_phenols</th>\n",
       "      <th>proanthocyanins</th>\n",
       "      <th>color_intensity</th>\n",
       "      <th>hue</th>\n",
       "      <th>od280/od315_of_diluted_wines</th>\n",
       "      <th>proline</th>\n",
       "      <th>y</th>\n",
       "    </tr>\n",
       "  </thead>\n",
       "  <tbody>\n",
       "    <tr>\n",
       "      <th>alcohol</th>\n",
       "      <td>1.000000</td>\n",
       "      <td>0.059493</td>\n",
       "      <td>0.208462</td>\n",
       "      <td>-0.306152</td>\n",
       "      <td>0.255015</td>\n",
       "      <td>0.237898</td>\n",
       "      <td>0.203969</td>\n",
       "      <td>-0.121112</td>\n",
       "      <td>0.129333</td>\n",
       "      <td>0.507365</td>\n",
       "      <td>-0.034286</td>\n",
       "      <td>0.043074</td>\n",
       "      <td>0.610935</td>\n",
       "      <td>-0.330125</td>\n",
       "    </tr>\n",
       "    <tr>\n",
       "      <th>malic_acid</th>\n",
       "      <td>0.059493</td>\n",
       "      <td>1.000000</td>\n",
       "      <td>0.162386</td>\n",
       "      <td>0.297836</td>\n",
       "      <td>-0.032299</td>\n",
       "      <td>-0.339057</td>\n",
       "      <td>-0.404339</td>\n",
       "      <td>0.280054</td>\n",
       "      <td>-0.150431</td>\n",
       "      <td>0.233210</td>\n",
       "      <td>-0.535255</td>\n",
       "      <td>-0.352133</td>\n",
       "      <td>-0.178505</td>\n",
       "      <td>0.421389</td>\n",
       "    </tr>\n",
       "    <tr>\n",
       "      <th>ash</th>\n",
       "      <td>0.208462</td>\n",
       "      <td>0.162386</td>\n",
       "      <td>1.000000</td>\n",
       "      <td>0.427367</td>\n",
       "      <td>0.318430</td>\n",
       "      <td>0.132523</td>\n",
       "      <td>0.103212</td>\n",
       "      <td>0.185332</td>\n",
       "      <td>0.048281</td>\n",
       "      <td>0.256548</td>\n",
       "      <td>-0.052083</td>\n",
       "      <td>-0.001624</td>\n",
       "      <td>0.200662</td>\n",
       "      <td>-0.031597</td>\n",
       "    </tr>\n",
       "    <tr>\n",
       "      <th>alcalinity_of_ash</th>\n",
       "      <td>-0.306152</td>\n",
       "      <td>0.297836</td>\n",
       "      <td>0.427367</td>\n",
       "      <td>1.000000</td>\n",
       "      <td>-0.012005</td>\n",
       "      <td>-0.337162</td>\n",
       "      <td>-0.369196</td>\n",
       "      <td>0.335112</td>\n",
       "      <td>-0.186523</td>\n",
       "      <td>0.042499</td>\n",
       "      <td>-0.267803</td>\n",
       "      <td>-0.265202</td>\n",
       "      <td>-0.428316</td>\n",
       "      <td>0.506512</td>\n",
       "    </tr>\n",
       "    <tr>\n",
       "      <th>magnesium</th>\n",
       "      <td>0.255015</td>\n",
       "      <td>-0.032299</td>\n",
       "      <td>0.318430</td>\n",
       "      <td>-0.012005</td>\n",
       "      <td>1.000000</td>\n",
       "      <td>0.191217</td>\n",
       "      <td>0.182841</td>\n",
       "      <td>-0.221938</td>\n",
       "      <td>0.196932</td>\n",
       "      <td>0.224927</td>\n",
       "      <td>0.034695</td>\n",
       "      <td>0.059890</td>\n",
       "      <td>0.368006</td>\n",
       "      <td>-0.187103</td>\n",
       "    </tr>\n",
       "    <tr>\n",
       "      <th>total_phenols</th>\n",
       "      <td>0.237898</td>\n",
       "      <td>-0.339057</td>\n",
       "      <td>0.132523</td>\n",
       "      <td>-0.337162</td>\n",
       "      <td>0.191217</td>\n",
       "      <td>1.000000</td>\n",
       "      <td>0.853074</td>\n",
       "      <td>-0.414599</td>\n",
       "      <td>0.564016</td>\n",
       "      <td>-0.086960</td>\n",
       "      <td>0.417550</td>\n",
       "      <td>0.679858</td>\n",
       "      <td>0.453689</td>\n",
       "      <td>-0.708629</td>\n",
       "    </tr>\n",
       "    <tr>\n",
       "      <th>flavanoids</th>\n",
       "      <td>0.203969</td>\n",
       "      <td>-0.404339</td>\n",
       "      <td>0.103212</td>\n",
       "      <td>-0.369196</td>\n",
       "      <td>0.182841</td>\n",
       "      <td>0.853074</td>\n",
       "      <td>1.000000</td>\n",
       "      <td>-0.529761</td>\n",
       "      <td>0.562338</td>\n",
       "      <td>-0.193517</td>\n",
       "      <td>0.518127</td>\n",
       "      <td>0.749447</td>\n",
       "      <td>0.447987</td>\n",
       "      <td>-0.816759</td>\n",
       "    </tr>\n",
       "    <tr>\n",
       "      <th>nonflavanoid_phenols</th>\n",
       "      <td>-0.121112</td>\n",
       "      <td>0.280054</td>\n",
       "      <td>0.185332</td>\n",
       "      <td>0.335112</td>\n",
       "      <td>-0.221938</td>\n",
       "      <td>-0.414599</td>\n",
       "      <td>-0.529761</td>\n",
       "      <td>1.000000</td>\n",
       "      <td>-0.343529</td>\n",
       "      <td>0.173011</td>\n",
       "      <td>-0.223495</td>\n",
       "      <td>-0.455189</td>\n",
       "      <td>-0.298782</td>\n",
       "      <td>0.472091</td>\n",
       "    </tr>\n",
       "    <tr>\n",
       "      <th>proanthocyanins</th>\n",
       "      <td>0.129333</td>\n",
       "      <td>-0.150431</td>\n",
       "      <td>0.048281</td>\n",
       "      <td>-0.186523</td>\n",
       "      <td>0.196932</td>\n",
       "      <td>0.564016</td>\n",
       "      <td>0.562338</td>\n",
       "      <td>-0.343529</td>\n",
       "      <td>1.000000</td>\n",
       "      <td>-0.013827</td>\n",
       "      <td>0.254052</td>\n",
       "      <td>0.478035</td>\n",
       "      <td>0.336211</td>\n",
       "      <td>-0.464638</td>\n",
       "    </tr>\n",
       "    <tr>\n",
       "      <th>color_intensity</th>\n",
       "      <td>0.507365</td>\n",
       "      <td>0.233210</td>\n",
       "      <td>0.256548</td>\n",
       "      <td>0.042499</td>\n",
       "      <td>0.224927</td>\n",
       "      <td>-0.086960</td>\n",
       "      <td>-0.193517</td>\n",
       "      <td>0.173011</td>\n",
       "      <td>-0.013827</td>\n",
       "      <td>1.000000</td>\n",
       "      <td>-0.491963</td>\n",
       "      <td>-0.436520</td>\n",
       "      <td>0.273072</td>\n",
       "      <td>0.277354</td>\n",
       "    </tr>\n",
       "    <tr>\n",
       "      <th>hue</th>\n",
       "      <td>-0.034286</td>\n",
       "      <td>-0.535255</td>\n",
       "      <td>-0.052083</td>\n",
       "      <td>-0.267803</td>\n",
       "      <td>0.034695</td>\n",
       "      <td>0.417550</td>\n",
       "      <td>0.518127</td>\n",
       "      <td>-0.223495</td>\n",
       "      <td>0.254052</td>\n",
       "      <td>-0.491963</td>\n",
       "      <td>1.000000</td>\n",
       "      <td>0.552272</td>\n",
       "      <td>0.209795</td>\n",
       "      <td>-0.588428</td>\n",
       "    </tr>\n",
       "    <tr>\n",
       "      <th>od280/od315_of_diluted_wines</th>\n",
       "      <td>0.043074</td>\n",
       "      <td>-0.352133</td>\n",
       "      <td>-0.001624</td>\n",
       "      <td>-0.265202</td>\n",
       "      <td>0.059890</td>\n",
       "      <td>0.679858</td>\n",
       "      <td>0.749447</td>\n",
       "      <td>-0.455189</td>\n",
       "      <td>0.478035</td>\n",
       "      <td>-0.436520</td>\n",
       "      <td>0.552272</td>\n",
       "      <td>1.000000</td>\n",
       "      <td>0.317707</td>\n",
       "      <td>-0.763535</td>\n",
       "    </tr>\n",
       "    <tr>\n",
       "      <th>proline</th>\n",
       "      <td>0.610935</td>\n",
       "      <td>-0.178505</td>\n",
       "      <td>0.200662</td>\n",
       "      <td>-0.428316</td>\n",
       "      <td>0.368006</td>\n",
       "      <td>0.453689</td>\n",
       "      <td>0.447987</td>\n",
       "      <td>-0.298782</td>\n",
       "      <td>0.336211</td>\n",
       "      <td>0.273072</td>\n",
       "      <td>0.209795</td>\n",
       "      <td>0.317707</td>\n",
       "      <td>1.000000</td>\n",
       "      <td>-0.630488</td>\n",
       "    </tr>\n",
       "    <tr>\n",
       "      <th>y</th>\n",
       "      <td>-0.330125</td>\n",
       "      <td>0.421389</td>\n",
       "      <td>-0.031597</td>\n",
       "      <td>0.506512</td>\n",
       "      <td>-0.187103</td>\n",
       "      <td>-0.708629</td>\n",
       "      <td>-0.816759</td>\n",
       "      <td>0.472091</td>\n",
       "      <td>-0.464638</td>\n",
       "      <td>0.277354</td>\n",
       "      <td>-0.588428</td>\n",
       "      <td>-0.763535</td>\n",
       "      <td>-0.630488</td>\n",
       "      <td>1.000000</td>\n",
       "    </tr>\n",
       "  </tbody>\n",
       "</table>\n",
       "</div>"
      ],
      "text/plain": [
       "                               alcohol  malic_acid       ash  \\\n",
       "alcohol                       1.000000    0.059493  0.208462   \n",
       "malic_acid                    0.059493    1.000000  0.162386   \n",
       "ash                           0.208462    0.162386  1.000000   \n",
       "alcalinity_of_ash            -0.306152    0.297836  0.427367   \n",
       "magnesium                     0.255015   -0.032299  0.318430   \n",
       "total_phenols                 0.237898   -0.339057  0.132523   \n",
       "flavanoids                    0.203969   -0.404339  0.103212   \n",
       "nonflavanoid_phenols         -0.121112    0.280054  0.185332   \n",
       "proanthocyanins               0.129333   -0.150431  0.048281   \n",
       "color_intensity               0.507365    0.233210  0.256548   \n",
       "hue                          -0.034286   -0.535255 -0.052083   \n",
       "od280/od315_of_diluted_wines  0.043074   -0.352133 -0.001624   \n",
       "proline                       0.610935   -0.178505  0.200662   \n",
       "y                            -0.330125    0.421389 -0.031597   \n",
       "\n",
       "                              alcalinity_of_ash  magnesium  total_phenols  \\\n",
       "alcohol                               -0.306152   0.255015       0.237898   \n",
       "malic_acid                             0.297836  -0.032299      -0.339057   \n",
       "ash                                    0.427367   0.318430       0.132523   \n",
       "alcalinity_of_ash                      1.000000  -0.012005      -0.337162   \n",
       "magnesium                             -0.012005   1.000000       0.191217   \n",
       "total_phenols                         -0.337162   0.191217       1.000000   \n",
       "flavanoids                            -0.369196   0.182841       0.853074   \n",
       "nonflavanoid_phenols                   0.335112  -0.221938      -0.414599   \n",
       "proanthocyanins                       -0.186523   0.196932       0.564016   \n",
       "color_intensity                        0.042499   0.224927      -0.086960   \n",
       "hue                                   -0.267803   0.034695       0.417550   \n",
       "od280/od315_of_diluted_wines          -0.265202   0.059890       0.679858   \n",
       "proline                               -0.428316   0.368006       0.453689   \n",
       "y                                      0.506512  -0.187103      -0.708629   \n",
       "\n",
       "                              flavanoids  nonflavanoid_phenols  \\\n",
       "alcohol                         0.203969             -0.121112   \n",
       "malic_acid                     -0.404339              0.280054   \n",
       "ash                             0.103212              0.185332   \n",
       "alcalinity_of_ash              -0.369196              0.335112   \n",
       "magnesium                       0.182841             -0.221938   \n",
       "total_phenols                   0.853074             -0.414599   \n",
       "flavanoids                      1.000000             -0.529761   \n",
       "nonflavanoid_phenols           -0.529761              1.000000   \n",
       "proanthocyanins                 0.562338             -0.343529   \n",
       "color_intensity                -0.193517              0.173011   \n",
       "hue                             0.518127             -0.223495   \n",
       "od280/od315_of_diluted_wines    0.749447             -0.455189   \n",
       "proline                         0.447987             -0.298782   \n",
       "y                              -0.816759              0.472091   \n",
       "\n",
       "                              proanthocyanins  color_intensity       hue  \\\n",
       "alcohol                              0.129333         0.507365 -0.034286   \n",
       "malic_acid                          -0.150431         0.233210 -0.535255   \n",
       "ash                                  0.048281         0.256548 -0.052083   \n",
       "alcalinity_of_ash                   -0.186523         0.042499 -0.267803   \n",
       "magnesium                            0.196932         0.224927  0.034695   \n",
       "total_phenols                        0.564016        -0.086960  0.417550   \n",
       "flavanoids                           0.562338        -0.193517  0.518127   \n",
       "nonflavanoid_phenols                -0.343529         0.173011 -0.223495   \n",
       "proanthocyanins                      1.000000        -0.013827  0.254052   \n",
       "color_intensity                     -0.013827         1.000000 -0.491963   \n",
       "hue                                  0.254052        -0.491963  1.000000   \n",
       "od280/od315_of_diluted_wines         0.478035        -0.436520  0.552272   \n",
       "proline                              0.336211         0.273072  0.209795   \n",
       "y                                   -0.464638         0.277354 -0.588428   \n",
       "\n",
       "                              od280/od315_of_diluted_wines   proline         y  \n",
       "alcohol                                           0.043074  0.610935 -0.330125  \n",
       "malic_acid                                       -0.352133 -0.178505  0.421389  \n",
       "ash                                              -0.001624  0.200662 -0.031597  \n",
       "alcalinity_of_ash                                -0.265202 -0.428316  0.506512  \n",
       "magnesium                                         0.059890  0.368006 -0.187103  \n",
       "total_phenols                                     0.679858  0.453689 -0.708629  \n",
       "flavanoids                                        0.749447  0.447987 -0.816759  \n",
       "nonflavanoid_phenols                             -0.455189 -0.298782  0.472091  \n",
       "proanthocyanins                                   0.478035  0.336211 -0.464638  \n",
       "color_intensity                                  -0.436520  0.273072  0.277354  \n",
       "hue                                               0.552272  0.209795 -0.588428  \n",
       "od280/od315_of_diluted_wines                      1.000000  0.317707 -0.763535  \n",
       "proline                                           0.317707  1.000000 -0.630488  \n",
       "y                                                -0.763535 -0.630488  1.000000  "
      ]
     },
     "execution_count": 87,
     "metadata": {},
     "output_type": "execute_result"
    }
   ],
   "source": [
    "df.corr()"
   ]
  },
  {
   "cell_type": "code",
   "execution_count": 105,
   "metadata": {},
   "outputs": [
    {
     "data": {
      "text/plain": [
       "alcohol                         2\n",
       "malic_acid                      0\n",
       "ash                             0\n",
       "alcalinity_of_ash               1\n",
       "magnesium                       0\n",
       "total_phenols                   3\n",
       "flavanoids                      4\n",
       "nonflavanoid_phenols            0\n",
       "proanthocyanins                 2\n",
       "color_intensity                 1\n",
       "hue                             2\n",
       "od280/od315_of_diluted_wines    3\n",
       "proline                         1\n",
       "y                               1\n",
       "dtype: int64"
      ]
     },
     "execution_count": 105,
     "metadata": {},
     "output_type": "execute_result"
    }
   ],
   "source": [
    "((df.corr() > 0.5 ).sum()-1)"
   ]
  },
  {
   "cell_type": "code",
   "execution_count": 113,
   "metadata": {},
   "outputs": [],
   "source": [
    "# Maior correlacao positiva em ordem cresente\n",
    "# alcohol (proline, color_intensity)\n",
    "# alcalinity_of_ash (y)\n",
    "# total_phenols (flavanoids, od280/od315_of_diluted_wines, proanthocyanins)\n",
    "# flavanoids (total_phenols, od280/od315_of_diluted_wines, proanthocyanins, hue)\n",
    "# proanthocyanins (total_phenols, flavanoids)\n",
    "# color_intensity (alcohol)\n",
    "# hue (od280/od315_of_diluted_wines, flavanoids)\n",
    "# od280/od315_of_diluted_wines (flavanoids, total_phenols, hue)\n",
    "# proline (alcohol)\n",
    "# y (alcalinity_of_ash)"
   ]
  },
  {
   "cell_type": "markdown",
   "metadata": {},
   "source": [
    "a alta taxa de correlação entre as features indica um maior impacto em seu valor na alteração de outra feature (seja positiva ou negativamente)"
   ]
  },
  {
   "cell_type": "code",
   "execution_count": 121,
   "metadata": {},
   "outputs": [],
   "source": [
    "from sklearn.preprocessing import StandardScaler\n",
    "from sklearn.model_selection import train_test_split"
   ]
  },
  {
   "cell_type": "code",
   "execution_count": 122,
   "metadata": {},
   "outputs": [],
   "source": [
    "std = StandardScaler()"
   ]
  },
  {
   "cell_type": "code",
   "execution_count": 123,
   "metadata": {},
   "outputs": [],
   "source": [
    "X = df.values[:,:-1]\n",
    "y = df.values[:,-1]"
   ]
  },
  {
   "cell_type": "code",
   "execution_count": 124,
   "metadata": {},
   "outputs": [
    {
     "data": {
      "text/plain": [
       "((178, 13), (178,))"
      ]
     },
     "execution_count": 124,
     "metadata": {},
     "output_type": "execute_result"
    }
   ],
   "source": [
    "X.shape, y.shape"
   ]
  },
  {
   "cell_type": "code",
   "execution_count": 176,
   "metadata": {},
   "outputs": [],
   "source": [
    "X_train, X_test,y_train , y_test = train_test_split(X,y,test_size=0.25, random_state=42,stratify=y)"
   ]
  },
  {
   "cell_type": "code",
   "execution_count": 177,
   "metadata": {},
   "outputs": [
    {
     "data": {
      "text/plain": [
       "((133, 13), (133,), (45, 13), (45,))"
      ]
     },
     "execution_count": 177,
     "metadata": {},
     "output_type": "execute_result"
    }
   ],
   "source": [
    "X_train.shape, y_train.shape, X_test.shape, y_test.shape"
   ]
  },
  {
   "cell_type": "code",
   "execution_count": 178,
   "metadata": {},
   "outputs": [],
   "source": [
    "X_train_std = std.fit_transform(X_train)\n",
    "X_test_std = std.transform(X_test)"
   ]
  },
  {
   "cell_type": "code",
   "execution_count": 179,
   "metadata": {},
   "outputs": [],
   "source": [
    "from sklearn.tree import DecisionTreeClassifier\n",
    "from sklearn.neighbors import KNeighborsClassifier"
   ]
  },
  {
   "cell_type": "code",
   "execution_count": 220,
   "metadata": {},
   "outputs": [],
   "source": [
    "modelKnn = KNeighborsClassifier(n_neighbors=3,algorithm='kd_tree')\n",
    "modelDTC = DecisionTreeClassifier(criterion='gini')"
   ]
  },
  {
   "cell_type": "code",
   "execution_count": 221,
   "metadata": {},
   "outputs": [],
   "source": [
    "modelKnn.fit(X_train_std,y_train);"
   ]
  },
  {
   "cell_type": "code",
   "execution_count": 222,
   "metadata": {},
   "outputs": [],
   "source": [
    "modelDTC.fit(X_train_std,y_train);"
   ]
  },
  {
   "cell_type": "code",
   "execution_count": 159,
   "metadata": {},
   "outputs": [],
   "source": [
    "def acuracy(y_real, y_pred):\n",
    "    return np.sum(y_pred == y_real)/y_real.shape[0]"
   ]
  },
  {
   "cell_type": "code",
   "execution_count": 223,
   "metadata": {},
   "outputs": [],
   "source": [
    "y_pred_knn = modelKnn.predict(X_test_std)"
   ]
  },
  {
   "cell_type": "code",
   "execution_count": 224,
   "metadata": {},
   "outputs": [],
   "source": [
    "y_pred_dtc = modelDTC.predict(X_test_std)"
   ]
  },
  {
   "cell_type": "code",
   "execution_count": 225,
   "metadata": {},
   "outputs": [],
   "source": [
    "acuracy_knn = acuracy(y_test,y_pred_knn)"
   ]
  },
  {
   "cell_type": "code",
   "execution_count": 226,
   "metadata": {},
   "outputs": [],
   "source": [
    "acuracy_dtc = acuracy(y_test,y_pred_dtc)"
   ]
  },
  {
   "cell_type": "code",
   "execution_count": 227,
   "metadata": {},
   "outputs": [
    {
     "data": {
      "text/plain": [
       "(0.9333333333333333, 0.8666666666666667)"
      ]
     },
     "execution_count": 227,
     "metadata": {},
     "output_type": "execute_result"
    }
   ],
   "source": [
    "acuracy_knn, acuracy_dtc"
   ]
  },
  {
   "cell_type": "code",
   "execution_count": 213,
   "metadata": {},
   "outputs": [],
   "source": [
    "accKNN = []\n",
    "accDTC = []"
   ]
  },
  {
   "cell_type": "code",
   "execution_count": 214,
   "metadata": {},
   "outputs": [],
   "source": [
    "#Treino não padronizado\n",
    "modelKnn = KNeighborsClassifier(n_neighbors=3,algorithm='kd_tree')\n",
    "modelKnn.fit(X_train,y_train);\n",
    "y_pred_knn = modelKnn.predict(X_test_std)\n",
    "accKNN.append(acuracy(y_test,y_pred_knn))\n",
    "#Treino padronizado\n",
    "modelKnn = KNeighborsClassifier(n_neighbors=3,algorithm='kd_tree')\n",
    "modelKnn.fit(X_train_std,y_train);\n",
    "y_pred_knn = modelKnn.predict(X_test_std)\n",
    "accKNN.append(acuracy(y_test,y_pred_knn))\n",
    "#Teste não padronizado\n",
    "modelKnn = KNeighborsClassifier(n_neighbors=3,algorithm='kd_tree')\n",
    "modelKnn.fit(X_train_std,y_train);\n",
    "y_pred_knn = modelKnn.predict(X_test)\n",
    "accKNN.append(acuracy(y_test,y_pred_knn))\n",
    "#Teste Padronizado\n",
    "modelKnn = KNeighborsClassifier(n_neighbors=3,algorithm='kd_tree')\n",
    "modelKnn.fit(X_train_std,y_train);\n",
    "y_pred_knn = modelKnn.predict(X_test_std)\n",
    "accKNN.append(acuracy(y_test,y_pred_knn))"
   ]
  },
  {
   "cell_type": "code",
   "execution_count": 215,
   "metadata": {},
   "outputs": [],
   "source": [
    "#Treino não padronizado\n",
    "modelDTC = DecisionTreeClassifier(criterion='gini')\n",
    "modelDTC.fit(X_train,y_train);\n",
    "y_pred_dtc = modelDTC.predict(X_test_std)\n",
    "accDTC.append(acuracy(y_test,y_pred_dtc))\n",
    "#Treino padronizado\n",
    "modelDTC = DecisionTreeClassifier(criterion='gini')\n",
    "modelDTC.fit(X_train_std,y_train);\n",
    "y_pred_dtc = modelDTC.predict(X_test_std)\n",
    "accDTC.append(acuracy(y_test,y_pred_dtc))\n",
    "#Teste não padronizado\n",
    "modelDTC = DecisionTreeClassifier(criterion='gini')\n",
    "modelDTC.fit(X_train_std,y_train);\n",
    "y_pred_dtc = modelDTC.predict(X_test)\n",
    "accDTC.append(acuracy(y_test,y_pred_dtc))\n",
    "#Teste Padronizado\n",
    "modelDTC = DecisionTreeClassifier(criterion='gini')\n",
    "modelDTC.fit(X_train_std,y_train);\n",
    "y_pred_dtc = modelDTC.predict(X_test_std)\n",
    "accDTC.append(acuracy(y_test,y_pred_dtc))"
   ]
  },
  {
   "cell_type": "code",
   "execution_count": 217,
   "metadata": {},
   "outputs": [
    {
     "data": {
      "text/plain": [
       "[0.4, 0.9333333333333333, 0.3333333333333333, 0.9333333333333333, 'KNN']"
      ]
     },
     "execution_count": 217,
     "metadata": {},
     "output_type": "execute_result"
    }
   ],
   "source": [
    "accKNN.append('KNN')\n",
    "accKNN"
   ]
  },
  {
   "cell_type": "code",
   "execution_count": 218,
   "metadata": {},
   "outputs": [
    {
     "data": {
      "text/plain": [
       "[0.37777777777777777,\n",
       " 0.9111111111111111,\n",
       " 0.3333333333333333,\n",
       " 0.8888888888888888,\n",
       " 'DTC']"
      ]
     },
     "execution_count": 218,
     "metadata": {},
     "output_type": "execute_result"
    }
   ],
   "source": [
    "accDTC.append('DTC')\n",
    "accDTC"
   ]
  },
  {
   "cell_type": "code",
   "execution_count": 219,
   "metadata": {},
   "outputs": [
    {
     "data": {
      "text/html": [
       "<div>\n",
       "<style scoped>\n",
       "    .dataframe tbody tr th:only-of-type {\n",
       "        vertical-align: middle;\n",
       "    }\n",
       "\n",
       "    .dataframe tbody tr th {\n",
       "        vertical-align: top;\n",
       "    }\n",
       "\n",
       "    .dataframe thead th {\n",
       "        text-align: right;\n",
       "    }\n",
       "</style>\n",
       "<table border=\"1\" class=\"dataframe\">\n",
       "  <thead>\n",
       "    <tr style=\"text-align: right;\">\n",
       "      <th></th>\n",
       "      <th>A</th>\n",
       "      <th>B</th>\n",
       "      <th>C</th>\n",
       "      <th>D</th>\n",
       "      <th>Model</th>\n",
       "    </tr>\n",
       "  </thead>\n",
       "  <tbody>\n",
       "    <tr>\n",
       "      <th>0</th>\n",
       "      <td>0.4</td>\n",
       "      <td>0.9333333333333333</td>\n",
       "      <td>0.3333333333333333</td>\n",
       "      <td>0.9333333333333333</td>\n",
       "      <td>KNN</td>\n",
       "    </tr>\n",
       "    <tr>\n",
       "      <th>1</th>\n",
       "      <td>0.37777777777777777</td>\n",
       "      <td>0.9111111111111111</td>\n",
       "      <td>0.3333333333333333</td>\n",
       "      <td>0.8888888888888888</td>\n",
       "      <td>DTC</td>\n",
       "    </tr>\n",
       "  </tbody>\n",
       "</table>\n",
       "</div>"
      ],
      "text/plain": [
       "                     A                   B                   C  \\\n",
       "0                  0.4  0.9333333333333333  0.3333333333333333   \n",
       "1  0.37777777777777777  0.9111111111111111  0.3333333333333333   \n",
       "\n",
       "                    D Model  \n",
       "0  0.9333333333333333   KNN  \n",
       "1  0.8888888888888888   DTC  "
      ]
     },
     "execution_count": 219,
     "metadata": {},
     "output_type": "execute_result"
    }
   ],
   "source": [
    "pd.DataFrame(np.array([accKNN,accDTC]),columns=['A','B','C','D','Model'])"
   ]
  },
  {
   "cell_type": "markdown",
   "metadata": {},
   "source": [
    "A - Treino não padronizado <br/>\n",
    "B - Treino padronizado <br/>\n",
    "C - Teste não padronizado <br/>\n",
    "D - Teste Padronizado"
   ]
  },
  {
   "cell_type": "markdown",
   "metadata": {},
   "source": [
    "Em abos os caso o modelo KNN apresentou o melhor resultado, para as predições A e D o KNN manteve o mesmo resultado 0.933333 já o DTC se comportou melhor qunado o conjunto de trino foi padrõnizado."
   ]
  },
  {
   "cell_type": "code",
   "execution_count": null,
   "metadata": {},
   "outputs": [],
   "source": []
  },
  {
   "cell_type": "code",
   "execution_count": 237,
   "metadata": {},
   "outputs": [],
   "source": [
    "from sklearn import cluster"
   ]
  },
  {
   "cell_type": "code",
   "execution_count": 271,
   "metadata": {},
   "outputs": [],
   "source": [
    "inertia = []"
   ]
  },
  {
   "cell_type": "code",
   "execution_count": 272,
   "metadata": {},
   "outputs": [],
   "source": [
    "for k in range(1,10):\n",
    "    modelKmeans = cluster.KMeans(n_clusters=k);\n",
    "    modelKmeans.fit(X)\n",
    "    inertia.append(modelKmeans.inertia_)"
   ]
  },
  {
   "cell_type": "code",
   "execution_count": 280,
   "metadata": {},
   "outputs": [
    {
     "data": {
      "text/plain": [
       "Text(0, 0.5, 'inertia')"
      ]
     },
     "execution_count": 280,
     "metadata": {},
     "output_type": "execute_result"
    },
    {
     "data": {
      "image/png": "[encoded data removed]",
      "text/plain": [
       "<Figure size 432x288 with 1 Axes>"
      ]
     },
     "metadata": {
      "needs_background": "light"
     },
     "output_type": "display_data"
    }
   ],
   "source": [
    "plt.scatter(range(1,10),inertia);\n",
    "plt.plot(range(1,10),inertia);\n",
    "plt.xlabel('K')\n",
    "plt.ylabel('inertia')"
   ]
  },
  {
   "cell_type": "markdown",
   "metadata": {},
   "source": [
    "Para o valor de K e escolhido o K onde a inertia começa a mudar pouco (ponto onde forma o cotovelo)"
   ]
  }
 ],
 "metadata": {
  "kernelspec": {
   "display_name": "Python 3",
   "language": "python",
   "name": "python3"
  },
  "language_info": {
   "codemirror_mode": {
    "name": "ipython",
    "version": 3
   },
   "file_extension": ".py",
   "mimetype": "text/x-python",
   "name": "python",
   "nbconvert_exporter": "python",
   "pygments_lexer": "ipython3",
   "version": "3.7.3"
  }
 },
 "nbformat": 4,
 "nbformat_minor": 2
}
