{
  "nbformat": 4,
  "nbformat_minor": 0,
  "metadata": {
    "kernelspec": {
      "name": "python3",
      "display_name": "Python 3"
    },
    "language_info": {
      "codemirror_mode": {
        "name": "ipython",
        "version": 3
      },
      "file_extension": ".py",
      "mimetype": "text/x-python",
      "name": "python",
      "nbconvert_exporter": "python",
      "pygments_lexer": "ipython3",
      "version": "3.7.3"
    },
    "colab": {
      "name": "rnn_introducao.ipynb",
      "provenance": []
    },
    "accelerator": "GPU"
  },
  "cells": [
    {
      "cell_type": "code",
      "metadata": {
        "id": "ahUlHPvkZvKn",
        "colab_type": "code",
        "colab": {}
      },
      "source": [
        "# from keras.datasets import imdb"
      ],
      "execution_count": 0,
      "outputs": []
    },
    {
      "cell_type": "code",
      "metadata": {
        "id": "CjxbHoTqZvKu",
        "colab_type": "code",
        "colab": {}
      },
      "source": [
        "import pandas as pd"
      ],
      "execution_count": 0,
      "outputs": []
    },
    {
      "cell_type": "code",
      "metadata": {
        "id": "yKXTDlDpZvKx",
        "colab_type": "code",
        "colab": {}
      },
      "source": [
        "df = pd.read_csv('./movie_small.csv.gz', encoding='utf-8')"
      ],
      "execution_count": 0,
      "outputs": []
    },
    {
      "cell_type": "code",
      "metadata": {
        "id": "MerqtbiYZvK0",
        "colab_type": "code",
        "colab": {}
      },
      "source": [
        "df_frases = df['review']"
      ],
      "execution_count": 0,
      "outputs": []
    },
    {
      "cell_type": "code",
      "metadata": {
        "id": "xgyK-D2fZvK3",
        "colab_type": "code",
        "colab": {}
      },
      "source": [
        "df_label = df['sentiment']"
      ],
      "execution_count": 0,
      "outputs": []
    },
    {
      "cell_type": "code",
      "metadata": {
        "id": "582YT4_gZvK7",
        "colab_type": "code",
        "colab": {
          "base_uri": "https://localhost:8080/",
          "height": 54
        },
        "outputId": "d823f76b-dbd4-4c2d-d3f8-2942dae3acbc"
      },
      "source": [
        "df_frases[3]"
      ],
      "execution_count": 6,
      "outputs": [
        {
          "output_type": "execute_result",
          "data": {
            "text/plain": [
              "'hi for all the people who have seen this wonderful movie im sure thet you would have liked it as much as i. i love the songs once you have seen the show you can sing along as though you are part of the show singing and dancing . dancing and singing. the song ONE is an all time fave musical song too and the strutters at the end with the mirror its so oh you have to watch this one'"
            ]
          },
          "metadata": {
            "tags": []
          },
          "execution_count": 6
        }
      ]
    },
    {
      "cell_type": "code",
      "metadata": {
        "id": "a2P0w75TZvLB",
        "colab_type": "code",
        "colab": {
          "base_uri": "https://localhost:8080/",
          "height": 102
        },
        "outputId": "87cec190-32d2-481f-9540-156976da5967"
      },
      "source": [
        "df_label.head(n=4)"
      ],
      "execution_count": 7,
      "outputs": [
        {
          "output_type": "execute_result",
          "data": {
            "text/plain": [
              "0    1\n",
              "1    0\n",
              "2    0\n",
              "3    1\n",
              "Name: sentiment, dtype: int64"
            ]
          },
          "metadata": {
            "tags": []
          },
          "execution_count": 7
        }
      ]
    },
    {
      "cell_type": "code",
      "metadata": {
        "id": "VSkeRsyiZvLE",
        "colab_type": "code",
        "colab": {}
      },
      "source": [
        "num_words = 100"
      ],
      "execution_count": 0,
      "outputs": []
    },
    {
      "cell_type": "code",
      "metadata": {
        "id": "smZrcoobZvLH",
        "colab_type": "code",
        "colab": {
          "base_uri": "https://localhost:8080/",
          "height": 80
        },
        "outputId": "9103d228-50cf-4901-c929-382db35a9598"
      },
      "source": [
        "from keras.preprocessing.text import Tokenizer"
      ],
      "execution_count": 9,
      "outputs": [
        {
          "output_type": "stream",
          "text": [
            "Using TensorFlow backend.\n"
          ],
          "name": "stderr"
        },
        {
          "output_type": "display_data",
          "data": {
            "text/html": [
              "<p style=\"color: red;\">\n",
              "The default version of TensorFlow in Colab will soon switch to TensorFlow 2.x.<br>\n",
              "We recommend you <a href=\"https://www.tensorflow.org/guide/migrate\" target=\"_blank\">upgrade</a> now \n",
              "or ensure your notebook will continue to use TensorFlow 1.x via the <code>%tensorflow_version 1.x</code> magic:\n",
              "<a href=\"https://colab.research.google.com/notebooks/tensorflow_version.ipynb\" target=\"_blank\">more info</a>.</p>\n"
            ],
            "text/plain": [
              "<IPython.core.display.HTML object>"
            ]
          },
          "metadata": {
            "tags": []
          }
        }
      ]
    },
    {
      "cell_type": "code",
      "metadata": {
        "id": "QMd_r4tBZvLK",
        "colab_type": "code",
        "colab": {}
      },
      "source": [
        "tokenizer = Tokenizer(num_words=num_words)"
      ],
      "execution_count": 0,
      "outputs": []
    },
    {
      "cell_type": "code",
      "metadata": {
        "id": "9DmWhHo7ZvLN",
        "colab_type": "code",
        "colab": {
          "base_uri": "https://localhost:8080/",
          "height": 54
        },
        "outputId": "d8eab6bd-97ae-4e4b-e28f-f1eca0f69f7b"
      },
      "source": [
        "df['review'].values[0]"
      ],
      "execution_count": 11,
      "outputs": [
        {
          "output_type": "execute_result",
          "data": {
            "text/plain": [
              "'In 1974, the teenager Martha Moxley (Maggie Grace) moves to the high-class area of Belle Haven, Greenwich, Connecticut. On the Mischief Night, eve of Halloween, she was murdered in the backyard of her house and her murder remained unsolved. Twenty-two years later, the writer Mark Fuhrman (Christopher Meloni), who is a former LA detective that has fallen in disgrace for perjury in O.J. Simpson trial and moved to Idaho, decides to investigate the case with his partner Stephen Weeks (Andrew Mitchell) with the purpose of writing a book. The locals squirm and do not welcome them, but with the support of the retired detective Steve Carroll (Robert Forster) that was in charge of the investigation in the 70\\'s, they discover the criminal and a net of power and money to cover the murder.<br /><br />\"Murder in Greenwich\" is a good TV movie, with the true story of a murder of a fifteen years old girl that was committed by a wealthy teenager whose mother was a Kennedy. The powerful and rich family used their influence to cover the murder for more than twenty years. However, a snoopy detective and convicted perjurer in disgrace was able to disclose how the hideous crime was committed. The screenplay shows the investigation of Mark and the last days of Martha in parallel, but there is a lack of the emotion in the dramatization. My vote is seven.<br /><br />Title (Brazil): Not Available'"
            ]
          },
          "metadata": {
            "tags": []
          },
          "execution_count": 11
        }
      ]
    },
    {
      "cell_type": "code",
      "metadata": {
        "id": "TUvGnznyZvLQ",
        "colab_type": "code",
        "colab": {}
      },
      "source": [
        "tokenizer.fit_on_texts(df['review'].values)"
      ],
      "execution_count": 0,
      "outputs": []
    },
    {
      "cell_type": "code",
      "metadata": {
        "id": "7v-ni-YwZvLT",
        "colab_type": "code",
        "colab": {}
      },
      "source": [
        "#tokenizer.word_index"
      ],
      "execution_count": 0,
      "outputs": []
    },
    {
      "cell_type": "code",
      "metadata": {
        "id": "FkX92derZvLW",
        "colab_type": "code",
        "colab": {}
      },
      "source": [
        "sequences = tokenizer.texts_to_sequences(df['review'].values)"
      ],
      "execution_count": 0,
      "outputs": []
    },
    {
      "cell_type": "code",
      "metadata": {
        "id": "sftZYigJZvLZ",
        "colab_type": "code",
        "colab": {
          "base_uri": "https://localhost:8080/",
          "height": 34
        },
        "outputId": "3ffab93a-4355-4b31-a1c7-8820b9b5c707"
      },
      "source": [
        "len(sequences[0])"
      ],
      "execution_count": 15,
      "outputs": [
        {
          "output_type": "execute_result",
          "data": {
            "text/plain": [
              "116"
            ]
          },
          "metadata": {
            "tags": []
          },
          "execution_count": 15
        }
      ]
    },
    {
      "cell_type": "code",
      "metadata": {
        "id": "DrjqDQSyZvLc",
        "colab_type": "code",
        "colab": {
          "base_uri": "https://localhost:8080/",
          "height": 34
        },
        "outputId": "314db5cf-123d-490f-f3c5-424d0b85d3e7"
      },
      "source": [
        "len(sequences[1])"
      ],
      "execution_count": 16,
      "outputs": [
        {
          "output_type": "execute_result",
          "data": {
            "text/plain": [
              "125"
            ]
          },
          "metadata": {
            "tags": []
          },
          "execution_count": 16
        }
      ]
    },
    {
      "cell_type": "code",
      "metadata": {
        "id": "iRqJbSqLZvLf",
        "colab_type": "code",
        "colab": {}
      },
      "source": [
        "from keras.preprocessing import sequence"
      ],
      "execution_count": 0,
      "outputs": []
    },
    {
      "cell_type": "code",
      "metadata": {
        "id": "2Ho21Z4EZvLi",
        "colab_type": "code",
        "colab": {}
      },
      "source": [
        "seq_pad = sequence.pad_sequences(sequences,maxlen=100)"
      ],
      "execution_count": 0,
      "outputs": []
    },
    {
      "cell_type": "code",
      "metadata": {
        "id": "rp4OAjIBZvLl",
        "colab_type": "code",
        "colab": {
          "base_uri": "https://localhost:8080/",
          "height": 34
        },
        "outputId": "7405d404-5a40-4c72-8c11-392926b59613"
      },
      "source": [
        "len(seq_pad[0])"
      ],
      "execution_count": 19,
      "outputs": [
        {
          "output_type": "execute_result",
          "data": {
            "text/plain": [
              "100"
            ]
          },
          "metadata": {
            "tags": []
          },
          "execution_count": 19
        }
      ]
    },
    {
      "cell_type": "code",
      "metadata": {
        "id": "hjHpI2hTZvLo",
        "colab_type": "code",
        "colab": {}
      },
      "source": [
        "from keras.models import Sequential\n",
        "from keras.layers import SimpleRNN, Embedding, Dense "
      ],
      "execution_count": 0,
      "outputs": []
    },
    {
      "cell_type": "code",
      "metadata": {
        "id": "ibbBq9owZvLw",
        "colab_type": "code",
        "colab": {}
      },
      "source": [
        "len_seq = 60\n",
        "seq_pad = sequence.pad_sequences(sequences,maxlen=len_seq)"
      ],
      "execution_count": 0,
      "outputs": []
    },
    {
      "cell_type": "code",
      "metadata": {
        "id": "9-wOqPm1ZvL3",
        "colab_type": "code",
        "colab": {
          "base_uri": "https://localhost:8080/",
          "height": 71
        },
        "outputId": "34ccf359-1e07-4ee9-a724-4281d2541c37"
      },
      "source": [
        "model = Sequential()"
      ],
      "execution_count": 22,
      "outputs": [
        {
          "output_type": "stream",
          "text": [
            "WARNING:tensorflow:From /usr/local/lib/python3.6/dist-packages/keras/backend/tensorflow_backend.py:66: The name tf.get_default_graph is deprecated. Please use tf.compat.v1.get_default_graph instead.\n",
            "\n"
          ],
          "name": "stdout"
        }
      ]
    },
    {
      "cell_type": "code",
      "metadata": {
        "id": "XwkKvvC9ZvL7",
        "colab_type": "code",
        "colab": {
          "base_uri": "https://localhost:8080/",
          "height": 105
        },
        "outputId": "d12bef02-73ae-4438-8546-9802da492bf1"
      },
      "source": [
        "new_din = 32\n",
        "model.add(Embedding(input_dim=num_words, output_dim=new_din, input_length=len_seq))\n",
        "model.add(SimpleRNN(units=10, input_shape=(new_din,)))\n",
        "model.add(Dense(1,activation='sigmoid'))"
      ],
      "execution_count": 23,
      "outputs": [
        {
          "output_type": "stream",
          "text": [
            "WARNING:tensorflow:From /usr/local/lib/python3.6/dist-packages/keras/backend/tensorflow_backend.py:541: The name tf.placeholder is deprecated. Please use tf.compat.v1.placeholder instead.\n",
            "\n",
            "WARNING:tensorflow:From /usr/local/lib/python3.6/dist-packages/keras/backend/tensorflow_backend.py:4432: The name tf.random_uniform is deprecated. Please use tf.random.uniform instead.\n",
            "\n"
          ],
          "name": "stdout"
        }
      ]
    },
    {
      "cell_type": "code",
      "metadata": {
        "id": "FbmumBmNZvL9",
        "colab_type": "code",
        "colab": {
          "base_uri": "https://localhost:8080/",
          "height": 255
        },
        "outputId": "6722c823-9ff0-496b-e187-b583beaeb0b3"
      },
      "source": [
        "model.summary()"
      ],
      "execution_count": 24,
      "outputs": [
        {
          "output_type": "stream",
          "text": [
            "Model: \"sequential_1\"\n",
            "_________________________________________________________________\n",
            "Layer (type)                 Output Shape              Param #   \n",
            "=================================================================\n",
            "embedding_1 (Embedding)      (None, 60, 32)            3200      \n",
            "_________________________________________________________________\n",
            "simple_rnn_1 (SimpleRNN)     (None, 10)                430       \n",
            "_________________________________________________________________\n",
            "dense_1 (Dense)              (None, 1)                 11        \n",
            "=================================================================\n",
            "Total params: 3,641\n",
            "Trainable params: 3,641\n",
            "Non-trainable params: 0\n",
            "_________________________________________________________________\n"
          ],
          "name": "stdout"
        }
      ]
    },
    {
      "cell_type": "code",
      "metadata": {
        "id": "eHjIifTCZvMC",
        "colab_type": "code",
        "colab": {
          "base_uri": "https://localhost:8080/",
          "height": 156
        },
        "outputId": "c1023c93-2ab2-4d6c-a7f3-8cdbb168fbca"
      },
      "source": [
        "metrics = ['acc']\n",
        "model.compile(optimizer='sgd',loss='binary_crossentropy',metrics=metrics)"
      ],
      "execution_count": 25,
      "outputs": [
        {
          "output_type": "stream",
          "text": [
            "WARNING:tensorflow:From /usr/local/lib/python3.6/dist-packages/keras/optimizers.py:793: The name tf.train.Optimizer is deprecated. Please use tf.compat.v1.train.Optimizer instead.\n",
            "\n",
            "WARNING:tensorflow:From /usr/local/lib/python3.6/dist-packages/keras/backend/tensorflow_backend.py:3657: The name tf.log is deprecated. Please use tf.math.log instead.\n",
            "\n",
            "WARNING:tensorflow:From /usr/local/lib/python3.6/dist-packages/tensorflow_core/python/ops/nn_impl.py:183: where (from tensorflow.python.ops.array_ops) is deprecated and will be removed in a future version.\n",
            "Instructions for updating:\n",
            "Use tf.where in 2.0, which has the same broadcast rule as np.where\n"
          ],
          "name": "stdout"
        }
      ]
    },
    {
      "cell_type": "code",
      "metadata": {
        "id": "XaOPkTz2ZvMG",
        "colab_type": "code",
        "colab": {}
      },
      "source": [
        "size_tr = int(0.8*len(seq_pad))\n",
        "x_tr, y_tr = seq_pad[:size_tr], df_label.values[:size_tr]\n",
        "x_test, y_test = seq_pad[size_tr:], df_label.values[size_tr:]"
      ],
      "execution_count": 0,
      "outputs": []
    },
    {
      "cell_type": "code",
      "metadata": {
        "id": "awG_ns-tZvMI",
        "colab_type": "code",
        "colab": {
          "base_uri": "https://localhost:8080/",
          "height": 34
        },
        "outputId": "55179dfc-ae2c-48e6-9009-0387d563bf9f"
      },
      "source": [
        "x_tr.shape"
      ],
      "execution_count": 27,
      "outputs": [
        {
          "output_type": "execute_result",
          "data": {
            "text/plain": [
              "(800, 60)"
            ]
          },
          "metadata": {
            "tags": []
          },
          "execution_count": 27
        }
      ]
    },
    {
      "cell_type": "code",
      "metadata": {
        "id": "vDc6JFPBk9Zr",
        "colab_type": "code",
        "colab": {}
      },
      "source": [
        "from keras.callbacks import EarlyStopping"
      ],
      "execution_count": 0,
      "outputs": []
    },
    {
      "cell_type": "code",
      "metadata": {
        "id": "PvLnBowzm-vA",
        "colab_type": "code",
        "colab": {}
      },
      "source": [
        "callback_early = EarlyStopping(min_delta=0.01,patience=20)"
      ],
      "execution_count": 0,
      "outputs": []
    },
    {
      "cell_type": "code",
      "metadata": {
        "id": "ONDwDjMsjV9g",
        "colab_type": "code",
        "colab": {
          "base_uri": "https://localhost:8080/",
          "height": 1000
        },
        "outputId": "b5a60442-7622-4846-cc3d-7780f906f75a"
      },
      "source": [
        "history = model.fit(x=x_tr,y=y_tr, batch_size=10, epochs=100,validation_split=0.1,callbacks=[callback_early])"
      ],
      "execution_count": 37,
      "outputs": [
        {
          "output_type": "stream",
          "text": [
            "Train on 720 samples, validate on 80 samples\n",
            "Epoch 1/100\n",
            "720/720 [==============================] - 3s 5ms/step - loss: 0.0794 - acc: 0.9819 - val_loss: 1.6370 - val_acc: 0.4875\n",
            "Epoch 2/100\n",
            "720/720 [==============================] - 3s 5ms/step - loss: 0.0327 - acc: 0.9986 - val_loss: 1.5716 - val_acc: 0.5250\n",
            "Epoch 3/100\n",
            "720/720 [==============================] - 4s 5ms/step - loss: 0.0240 - acc: 0.9986 - val_loss: 1.5426 - val_acc: 0.5375\n",
            "Epoch 4/100\n",
            "720/720 [==============================] - 3s 5ms/step - loss: 0.0194 - acc: 1.0000 - val_loss: 1.6481 - val_acc: 0.5375\n",
            "Epoch 5/100\n",
            "720/720 [==============================] - 3s 5ms/step - loss: 0.0179 - acc: 1.0000 - val_loss: 1.6186 - val_acc: 0.5250\n",
            "Epoch 6/100\n",
            "720/720 [==============================] - 3s 5ms/step - loss: 0.0164 - acc: 1.0000 - val_loss: 1.6399 - val_acc: 0.5000\n",
            "Epoch 7/100\n",
            "720/720 [==============================] - 3s 5ms/step - loss: 0.0153 - acc: 1.0000 - val_loss: 1.6036 - val_acc: 0.5250\n",
            "Epoch 8/100\n",
            "720/720 [==============================] - 4s 5ms/step - loss: 0.0145 - acc: 1.0000 - val_loss: 1.6071 - val_acc: 0.5000\n",
            "Epoch 9/100\n",
            "720/720 [==============================] - 3s 5ms/step - loss: 0.0140 - acc: 1.0000 - val_loss: 1.6631 - val_acc: 0.5250\n",
            "Epoch 10/100\n",
            "720/720 [==============================] - 3s 5ms/step - loss: 0.0132 - acc: 1.0000 - val_loss: 1.6202 - val_acc: 0.5250\n",
            "Epoch 11/100\n",
            "720/720 [==============================] - 3s 5ms/step - loss: 0.0127 - acc: 1.0000 - val_loss: 1.6398 - val_acc: 0.5250\n",
            "Epoch 12/100\n",
            "720/720 [==============================] - 3s 5ms/step - loss: 0.0125 - acc: 1.0000 - val_loss: 1.6488 - val_acc: 0.5375\n",
            "Epoch 13/100\n",
            "720/720 [==============================] - 3s 5ms/step - loss: 0.0114 - acc: 1.0000 - val_loss: 1.6679 - val_acc: 0.5250\n",
            "Epoch 14/100\n",
            "720/720 [==============================] - 3s 5ms/step - loss: 0.0113 - acc: 1.0000 - val_loss: 1.6566 - val_acc: 0.5250\n",
            "Epoch 15/100\n",
            "720/720 [==============================] - 3s 5ms/step - loss: 0.0347 - acc: 0.9944 - val_loss: 1.7639 - val_acc: 0.5625\n",
            "Epoch 16/100\n",
            "720/720 [==============================] - 3s 5ms/step - loss: 0.3235 - acc: 0.9069 - val_loss: 1.3456 - val_acc: 0.5375\n",
            "Epoch 17/100\n",
            "720/720 [==============================] - 3s 5ms/step - loss: 1.4877 - acc: 0.6236 - val_loss: 1.2912 - val_acc: 0.5750\n",
            "Epoch 18/100\n",
            "720/720 [==============================] - 3s 5ms/step - loss: 0.7616 - acc: 0.6597 - val_loss: 0.9492 - val_acc: 0.5625\n",
            "Epoch 19/100\n",
            "720/720 [==============================] - 3s 5ms/step - loss: 0.6203 - acc: 0.7083 - val_loss: 0.9141 - val_acc: 0.5750\n",
            "Epoch 20/100\n",
            "720/720 [==============================] - 3s 5ms/step - loss: 0.5695 - acc: 0.7181 - val_loss: 0.8152 - val_acc: 0.5875\n",
            "Epoch 21/100\n",
            "720/720 [==============================] - 3s 5ms/step - loss: 0.5521 - acc: 0.7181 - val_loss: 0.8080 - val_acc: 0.6500\n",
            "Epoch 22/100\n",
            "720/720 [==============================] - 3s 5ms/step - loss: 0.5233 - acc: 0.7333 - val_loss: 0.7984 - val_acc: 0.6500\n",
            "Epoch 23/100\n",
            "720/720 [==============================] - 4s 5ms/step - loss: 0.5077 - acc: 0.7569 - val_loss: 0.8034 - val_acc: 0.6625\n",
            "Epoch 24/100\n",
            "720/720 [==============================] - 3s 5ms/step - loss: 0.4806 - acc: 0.7764 - val_loss: 0.8527 - val_acc: 0.6375\n",
            "Epoch 25/100\n",
            "720/720 [==============================] - 3s 5ms/step - loss: 0.4633 - acc: 0.7819 - val_loss: 0.8702 - val_acc: 0.5875\n",
            "Epoch 26/100\n",
            "720/720 [==============================] - 3s 5ms/step - loss: 0.4563 - acc: 0.7931 - val_loss: 0.9175 - val_acc: 0.5875\n",
            "Epoch 27/100\n",
            "720/720 [==============================] - 3s 5ms/step - loss: 0.5578 - acc: 0.7278 - val_loss: 0.9068 - val_acc: 0.4500\n",
            "Epoch 28/100\n",
            "720/720 [==============================] - 3s 5ms/step - loss: 0.6470 - acc: 0.6194 - val_loss: 0.7611 - val_acc: 0.4500\n",
            "Epoch 29/100\n",
            "720/720 [==============================] - 3s 5ms/step - loss: 0.6089 - acc: 0.6681 - val_loss: 0.7772 - val_acc: 0.4500\n",
            "Epoch 30/100\n",
            "720/720 [==============================] - 3s 5ms/step - loss: 0.5849 - acc: 0.7042 - val_loss: 0.7725 - val_acc: 0.5250\n",
            "Epoch 31/100\n",
            "720/720 [==============================] - 3s 4ms/step - loss: 0.5396 - acc: 0.7375 - val_loss: 0.7336 - val_acc: 0.6000\n",
            "Epoch 32/100\n",
            "720/720 [==============================] - 3s 5ms/step - loss: 0.5246 - acc: 0.7389 - val_loss: 0.7476 - val_acc: 0.6000\n",
            "Epoch 33/100\n",
            "720/720 [==============================] - 3s 5ms/step - loss: 0.5123 - acc: 0.7500 - val_loss: 0.6944 - val_acc: 0.7000\n",
            "Epoch 34/100\n",
            "720/720 [==============================] - 3s 5ms/step - loss: 0.4888 - acc: 0.7681 - val_loss: 0.7052 - val_acc: 0.6125\n",
            "Epoch 35/100\n",
            "720/720 [==============================] - 3s 5ms/step - loss: 0.4851 - acc: 0.7653 - val_loss: 0.6958 - val_acc: 0.6625\n",
            "Epoch 36/100\n",
            "720/720 [==============================] - 3s 5ms/step - loss: 0.4843 - acc: 0.7611 - val_loss: 0.7207 - val_acc: 0.6375\n",
            "Epoch 37/100\n",
            "720/720 [==============================] - 3s 5ms/step - loss: 0.4628 - acc: 0.7792 - val_loss: 0.7577 - val_acc: 0.6500\n",
            "Epoch 38/100\n",
            "720/720 [==============================] - 3s 5ms/step - loss: 0.4667 - acc: 0.7736 - val_loss: 0.7574 - val_acc: 0.6000\n",
            "Epoch 39/100\n",
            "720/720 [==============================] - 3s 5ms/step - loss: 0.4519 - acc: 0.7875 - val_loss: 0.7323 - val_acc: 0.6625\n",
            "Epoch 40/100\n",
            "720/720 [==============================] - 3s 5ms/step - loss: 0.4355 - acc: 0.8097 - val_loss: 0.8079 - val_acc: 0.6000\n",
            "Epoch 41/100\n",
            "720/720 [==============================] - 3s 5ms/step - loss: 0.4327 - acc: 0.8069 - val_loss: 0.7566 - val_acc: 0.6500\n",
            "Epoch 42/100\n",
            "720/720 [==============================] - 3s 5ms/step - loss: 0.4183 - acc: 0.8222 - val_loss: 0.7840 - val_acc: 0.6000\n",
            "Epoch 43/100\n",
            "720/720 [==============================] - 3s 5ms/step - loss: 0.4222 - acc: 0.8125 - val_loss: 0.7626 - val_acc: 0.6500\n",
            "Epoch 44/100\n",
            "720/720 [==============================] - 3s 5ms/step - loss: 0.4107 - acc: 0.8167 - val_loss: 0.7852 - val_acc: 0.6125\n",
            "Epoch 45/100\n",
            "720/720 [==============================] - 3s 5ms/step - loss: 0.3971 - acc: 0.8278 - val_loss: 0.7659 - val_acc: 0.6500\n",
            "Epoch 46/100\n",
            "720/720 [==============================] - 3s 5ms/step - loss: 0.3846 - acc: 0.8431 - val_loss: 0.7794 - val_acc: 0.6500\n",
            "Epoch 47/100\n",
            "720/720 [==============================] - 3s 5ms/step - loss: 0.3851 - acc: 0.8319 - val_loss: 0.8061 - val_acc: 0.6750\n",
            "Epoch 48/100\n",
            "720/720 [==============================] - 3s 5ms/step - loss: 0.3750 - acc: 0.8361 - val_loss: 0.7966 - val_acc: 0.6250\n",
            "Epoch 49/100\n",
            "720/720 [==============================] - 3s 5ms/step - loss: 0.3725 - acc: 0.8417 - val_loss: 0.7949 - val_acc: 0.6500\n",
            "Epoch 50/100\n",
            "720/720 [==============================] - 3s 5ms/step - loss: 0.3557 - acc: 0.8500 - val_loss: 0.8229 - val_acc: 0.6625\n",
            "Epoch 51/100\n",
            "720/720 [==============================] - 3s 5ms/step - loss: 0.3602 - acc: 0.8486 - val_loss: 0.8131 - val_acc: 0.6875\n",
            "Epoch 52/100\n",
            "720/720 [==============================] - 3s 5ms/step - loss: 0.3453 - acc: 0.8569 - val_loss: 0.8112 - val_acc: 0.6375\n",
            "Epoch 53/100\n",
            "720/720 [==============================] - 3s 5ms/step - loss: 0.3423 - acc: 0.8569 - val_loss: 0.8203 - val_acc: 0.6875\n"
          ],
          "name": "stdout"
        }
      ]
    },
    {
      "cell_type": "code",
      "metadata": {
        "id": "_4iTeVLMjYcq",
        "colab_type": "code",
        "colab": {}
      },
      "source": [
        "import matplotlib.pyplot as plt\n"
      ],
      "execution_count": 0,
      "outputs": []
    },
    {
      "cell_type": "code",
      "metadata": {
        "id": "Mik4D_DgoA2g",
        "colab_type": "code",
        "colab": {
          "base_uri": "https://localhost:8080/",
          "height": 34
        },
        "outputId": "f3e35714-1289-49e7-bc4b-ebea288ada70"
      },
      "source": [
        "evalu = model.evaluate(x=x_test,y=y_test)"
      ],
      "execution_count": 38,
      "outputs": [
        {
          "output_type": "stream",
          "text": [
            "200/200 [==============================] - 0s 1ms/step\n"
          ],
          "name": "stdout"
        }
      ]
    },
    {
      "cell_type": "code",
      "metadata": {
        "id": "DgFBnbumoPA5",
        "colab_type": "code",
        "colab": {
          "base_uri": "https://localhost:8080/",
          "height": 34
        },
        "outputId": "ba28f3e1-edf2-4893-efa6-4e5afd33ee99"
      },
      "source": [
        "evalu"
      ],
      "execution_count": 39,
      "outputs": [
        {
          "output_type": "execute_result",
          "data": {
            "text/plain": [
              "[1.0877380657196045, 0.565]"
            ]
          },
          "metadata": {
            "tags": []
          },
          "execution_count": 39
        }
      ]
    },
    {
      "cell_type": "code",
      "metadata": {
        "id": "qhtb0HwMoQTp",
        "colab_type": "code",
        "colab": {
          "base_uri": "https://localhost:8080/",
          "height": 136
        },
        "outputId": "a1bd4520-0688-4f0d-f25c-e0e611a6f15b"
      },
      "source": [
        "history.params"
      ],
      "execution_count": 41,
      "outputs": [
        {
          "output_type": "execute_result",
          "data": {
            "text/plain": [
              "{'batch_size': 10,\n",
              " 'do_validation': True,\n",
              " 'epochs': 100,\n",
              " 'metrics': ['loss', 'acc', 'val_loss', 'val_acc'],\n",
              " 'samples': 720,\n",
              " 'steps': None,\n",
              " 'verbose': 1}"
            ]
          },
          "metadata": {
            "tags": []
          },
          "execution_count": 41
        }
      ]
    },
    {
      "cell_type": "code",
      "metadata": {
        "id": "5mElnZJKoQjJ",
        "colab_type": "code",
        "colab": {}
      },
      "source": [
        ""
      ],
      "execution_count": 0,
      "outputs": []
    },
    {
      "cell_type": "code",
      "metadata": {
        "id": "ZoZVqGSFoQw-",
        "colab_type": "code",
        "colab": {}
      },
      "source": [
        ""
      ],
      "execution_count": 0,
      "outputs": []
    },
    {
      "cell_type": "code",
      "metadata": {
        "id": "CkKVBNoZoRAk",
        "colab_type": "code",
        "colab": {}
      },
      "source": [
        ""
      ],
      "execution_count": 0,
      "outputs": []
    },
    {
      "cell_type": "code",
      "metadata": {
        "id": "wakJnu5zoRTy",
        "colab_type": "code",
        "colab": {}
      },
      "source": [
        ""
      ],
      "execution_count": 0,
      "outputs": []
    }
  ]
}