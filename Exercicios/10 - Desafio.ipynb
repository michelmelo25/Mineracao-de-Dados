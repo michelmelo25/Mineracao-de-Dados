{
 "cells": [
  {
   "cell_type": "markdown",
   "metadata": {},
   "source": [
    "# Atividades\n",
    "\n",
    "## Analisando dados de ocorrências de feminicídio na cidade de São Paulo\n",
    "\n",
    "Algumas perguntas com relação ao dataset podem ser respondidas\n",
    "- Como os índices de feminicídio evoluíram em relação ao tempo e como podem evoluir nos próximos anos?\n",
    "- Quais foram os períodos com maiores taxas nos últimos anos?\n",
    "- Quais são os logradouros, tipos de locais, bairros e regiões com maiores índices?\n",
    "- Quais são os dias da semana, horários com maiores índices?\n",
    "\n",
    "Dataset disponível em: http://www.ssp.sp.gov.br/transparenciassp/Default.aspx"
   ]
  },
  {
   "cell_type": "markdown",
   "metadata": {},
   "source": []
  },
  {
   "cell_type": "code",
   "execution_count": 1,
   "metadata": {},
   "outputs": [],
   "source": [
    "# Leitura dos dados"
   ]
  },
  {
   "cell_type": "code",
   "execution_count": 2,
   "metadata": {},
   "outputs": [],
   "source": [
    "import pandas as pd\n",
    "import numpy as np"
   ]
  },
  {
   "cell_type": "code",
   "execution_count": 38,
   "metadata": {},
   "outputs": [],
   "source": [
    "Df20191 = pd.read_excel('../Datasets/DadosBO_2019_1(FEMINICÍDIO).xlsx')"
   ]
  },
  {
   "cell_type": "code",
   "execution_count": 28,
   "metadata": {},
   "outputs": [],
   "source": [
    "Df20192 = pd.read_excel('../Datasets/DadosBO_2019_2(FEMINICÍDIO).xlsx')"
   ]
  },
  {
   "cell_type": "code",
   "execution_count": 29,
   "metadata": {},
   "outputs": [],
   "source": [
    "Df20193 = pd.read_excel('../Datasets/DadosBO_2019_3(FEMINICÍDIO).xlsx')"
   ]
  },
  {
   "cell_type": "code",
   "execution_count": 30,
   "metadata": {},
   "outputs": [],
   "source": [
    "Df20194 = pd.read_excel('../Datasets/DadosBO_2019_4(FEMINICÍDIO).xlsx')"
   ]
  },
  {
   "cell_type": "code",
   "execution_count": 31,
   "metadata": {},
   "outputs": [],
   "source": [
    "Df20195 = pd.read_excel('../Datasets/DadosBO_2019_5(FEMINICÍDIO).xlsx')"
   ]
  },
  {
   "cell_type": "code",
   "execution_count": 32,
   "metadata": {},
   "outputs": [],
   "source": [
    "Df20196 = pd.read_excel('../Datasets/DadosBO_2019_6(FEMINICÍDIO).xlsx')"
   ]
  },
  {
   "cell_type": "code",
   "execution_count": 39,
   "metadata": {},
   "outputs": [
    {
     "data": {
      "text/html": [
       "<div>\n",
       "<style scoped>\n",
       "    .dataframe tbody tr th:only-of-type {\n",
       "        vertical-align: middle;\n",
       "    }\n",
       "\n",
       "    .dataframe tbody tr th {\n",
       "        vertical-align: top;\n",
       "    }\n",
       "\n",
       "    .dataframe thead th {\n",
       "        text-align: right;\n",
       "    }\n",
       "</style>\n",
       "<table border=\"1\" class=\"dataframe\">\n",
       "  <thead>\n",
       "    <tr style=\"text-align: right;\">\n",
       "      <th></th>\n",
       "      <th>ANO_BO</th>\n",
       "      <th>NUM_BO</th>\n",
       "      <th>NUMERO_BOLETIM</th>\n",
       "      <th>BO_INICIADO</th>\n",
       "      <th>BO_EMITIDO</th>\n",
       "      <th>DATAOCORRENCIA</th>\n",
       "      <th>PERIDOOCORRENCIA</th>\n",
       "      <th>DATACOMUNICACAO</th>\n",
       "      <th>DATAELABORACAO</th>\n",
       "      <th>BO_AUTORIA</th>\n",
       "      <th>...</th>\n",
       "      <th>PLACA_VEICULO</th>\n",
       "      <th>UF_VEICULO</th>\n",
       "      <th>CIDADE_VEICULO</th>\n",
       "      <th>DESCR_COR_VEICULO</th>\n",
       "      <th>DESCR_MARCA_VEICULO</th>\n",
       "      <th>ANO_FABRICACAO</th>\n",
       "      <th>ANO_MODELO</th>\n",
       "      <th>DESCR_TIPO_VEICULO</th>\n",
       "      <th>QUANT_CELULAR</th>\n",
       "      <th>MARCA_CELULAR</th>\n",
       "    </tr>\n",
       "  </thead>\n",
       "  <tbody>\n",
       "    <tr>\n",
       "      <th>0</th>\n",
       "      <td>2019</td>\n",
       "      <td>25</td>\n",
       "      <td>25/2019</td>\n",
       "      <td>03/01/2019 12:17:20</td>\n",
       "      <td>03/01/2019 19:05:46</td>\n",
       "      <td>03/01/2019</td>\n",
       "      <td>DE MADRUGADA</td>\n",
       "      <td>03/01/2019</td>\n",
       "      <td>03/01/2019 12:17:20</td>\n",
       "      <td>Conhecida</td>\n",
       "      <td>...</td>\n",
       "      <td>NaN</td>\n",
       "      <td>NaN</td>\n",
       "      <td>NaN</td>\n",
       "      <td>NaN</td>\n",
       "      <td>NaN</td>\n",
       "      <td>0</td>\n",
       "      <td>0</td>\n",
       "      <td>NaN</td>\n",
       "      <td>NaN</td>\n",
       "      <td>NaN</td>\n",
       "    </tr>\n",
       "    <tr>\n",
       "      <th>1</th>\n",
       "      <td>2019</td>\n",
       "      <td>25</td>\n",
       "      <td>25/2019</td>\n",
       "      <td>03/01/2019 12:17:20</td>\n",
       "      <td>03/01/2019 19:05:46</td>\n",
       "      <td>03/01/2019</td>\n",
       "      <td>DE MADRUGADA</td>\n",
       "      <td>03/01/2019</td>\n",
       "      <td>03/01/2019 12:17:20</td>\n",
       "      <td>Conhecida</td>\n",
       "      <td>...</td>\n",
       "      <td>NaN</td>\n",
       "      <td>NaN</td>\n",
       "      <td>NaN</td>\n",
       "      <td>NaN</td>\n",
       "      <td>NaN</td>\n",
       "      <td>0</td>\n",
       "      <td>0</td>\n",
       "      <td>NaN</td>\n",
       "      <td>NaN</td>\n",
       "      <td>NaN</td>\n",
       "    </tr>\n",
       "    <tr>\n",
       "      <th>2</th>\n",
       "      <td>2019</td>\n",
       "      <td>25</td>\n",
       "      <td>25/2019</td>\n",
       "      <td>03/01/2019 12:17:20</td>\n",
       "      <td>03/01/2019 19:05:46</td>\n",
       "      <td>03/01/2019</td>\n",
       "      <td>DE MADRUGADA</td>\n",
       "      <td>03/01/2019</td>\n",
       "      <td>03/01/2019 12:17:20</td>\n",
       "      <td>Conhecida</td>\n",
       "      <td>...</td>\n",
       "      <td>NaN</td>\n",
       "      <td>NaN</td>\n",
       "      <td>NaN</td>\n",
       "      <td>NaN</td>\n",
       "      <td>NaN</td>\n",
       "      <td>0</td>\n",
       "      <td>0</td>\n",
       "      <td>NaN</td>\n",
       "      <td>NaN</td>\n",
       "      <td>NaN</td>\n",
       "    </tr>\n",
       "    <tr>\n",
       "      <th>3</th>\n",
       "      <td>2019</td>\n",
       "      <td>25</td>\n",
       "      <td>25/2019</td>\n",
       "      <td>03/01/2019 12:17:20</td>\n",
       "      <td>03/01/2019 19:05:46</td>\n",
       "      <td>03/01/2019</td>\n",
       "      <td>DE MADRUGADA</td>\n",
       "      <td>03/01/2019</td>\n",
       "      <td>03/01/2019 12:17:20</td>\n",
       "      <td>Conhecida</td>\n",
       "      <td>...</td>\n",
       "      <td>NaN</td>\n",
       "      <td>NaN</td>\n",
       "      <td>NaN</td>\n",
       "      <td>NaN</td>\n",
       "      <td>NaN</td>\n",
       "      <td>0</td>\n",
       "      <td>0</td>\n",
       "      <td>NaN</td>\n",
       "      <td>NaN</td>\n",
       "      <td>NaN</td>\n",
       "    </tr>\n",
       "    <tr>\n",
       "      <th>4</th>\n",
       "      <td>2019</td>\n",
       "      <td>141</td>\n",
       "      <td>141/2019</td>\n",
       "      <td>04/01/2019 03:41:43</td>\n",
       "      <td>04/01/2019 04:58:19</td>\n",
       "      <td>04/01/2019</td>\n",
       "      <td>DE MADRUGADA</td>\n",
       "      <td>04/01/2019</td>\n",
       "      <td>04/01/2019 03:41:43</td>\n",
       "      <td>Conhecida</td>\n",
       "      <td>...</td>\n",
       "      <td>NaN</td>\n",
       "      <td>NaN</td>\n",
       "      <td>NaN</td>\n",
       "      <td>NaN</td>\n",
       "      <td>NaN</td>\n",
       "      <td>0</td>\n",
       "      <td>0</td>\n",
       "      <td>NaN</td>\n",
       "      <td>NaN</td>\n",
       "      <td>NaN</td>\n",
       "    </tr>\n",
       "  </tbody>\n",
       "</table>\n",
       "<p>5 rows × 56 columns</p>\n",
       "</div>"
      ],
      "text/plain": [
       "   ANO_BO  NUM_BO NUMERO_BOLETIM          BO_INICIADO           BO_EMITIDO  \\\n",
       "0    2019      25        25/2019  03/01/2019 12:17:20  03/01/2019 19:05:46   \n",
       "1    2019      25        25/2019  03/01/2019 12:17:20  03/01/2019 19:05:46   \n",
       "2    2019      25        25/2019  03/01/2019 12:17:20  03/01/2019 19:05:46   \n",
       "3    2019      25        25/2019  03/01/2019 12:17:20  03/01/2019 19:05:46   \n",
       "4    2019     141       141/2019  04/01/2019 03:41:43  04/01/2019 04:58:19   \n",
       "\n",
       "  DATAOCORRENCIA PERIDOOCORRENCIA DATACOMUNICACAO       DATAELABORACAO  \\\n",
       "0     03/01/2019     DE MADRUGADA      03/01/2019  03/01/2019 12:17:20   \n",
       "1     03/01/2019     DE MADRUGADA      03/01/2019  03/01/2019 12:17:20   \n",
       "2     03/01/2019     DE MADRUGADA      03/01/2019  03/01/2019 12:17:20   \n",
       "3     03/01/2019     DE MADRUGADA      03/01/2019  03/01/2019 12:17:20   \n",
       "4     04/01/2019     DE MADRUGADA      04/01/2019  04/01/2019 03:41:43   \n",
       "\n",
       "  BO_AUTORIA  ... PLACA_VEICULO UF_VEICULO CIDADE_VEICULO  DESCR_COR_VEICULO  \\\n",
       "0  Conhecida  ...           NaN        NaN            NaN                NaN   \n",
       "1  Conhecida  ...           NaN        NaN            NaN                NaN   \n",
       "2  Conhecida  ...           NaN        NaN            NaN                NaN   \n",
       "3  Conhecida  ...           NaN        NaN            NaN                NaN   \n",
       "4  Conhecida  ...           NaN        NaN            NaN                NaN   \n",
       "\n",
       "  DESCR_MARCA_VEICULO ANO_FABRICACAO ANO_MODELO  DESCR_TIPO_VEICULO  \\\n",
       "0                 NaN              0          0                 NaN   \n",
       "1                 NaN              0          0                 NaN   \n",
       "2                 NaN              0          0                 NaN   \n",
       "3                 NaN              0          0                 NaN   \n",
       "4                 NaN              0          0                 NaN   \n",
       "\n",
       "   QUANT_CELULAR MARCA_CELULAR  \n",
       "0            NaN           NaN  \n",
       "1            NaN           NaN  \n",
       "2            NaN           NaN  \n",
       "3            NaN           NaN  \n",
       "4            NaN           NaN  \n",
       "\n",
       "[5 rows x 56 columns]"
      ]
     },
     "execution_count": 39,
     "metadata": {},
     "output_type": "execute_result"
    }
   ],
   "source": [
    "Df20191.head()"
   ]
  },
  {
   "cell_type": "code",
   "execution_count": 34,
   "metadata": {},
   "outputs": [
    {
     "data": {
      "text/plain": [
       "ANO_BO                       0\n",
       "NUM_BO                       0\n",
       "NUMERO_BOLETIM               0\n",
       "BO_INICIADO                  0\n",
       "BO_EMITIDO                   0\n",
       "DATAOCORRENCIA               0\n",
       "PERIDOOCORRENCIA             0\n",
       "DATACOMUNICACAO              0\n",
       "DATAELABORACAO               0\n",
       "BO_AUTORIA                   0\n",
       "FLAGRANTE                    0\n",
       "NUMERO_BOLETIM_PRINCIPAL     0\n",
       "LOGRADOURO                   0\n",
       "NUMERO                       0\n",
       "BAIRRO                       0\n",
       "CIDADE                      29\n",
       "UF                          23\n",
       "LATITUDE                     0\n",
       "LONGITUDE                    0\n",
       "DESCRICAOLOCAL               0\n",
       "EXAME                        0\n",
       "SOLUCAO                      9\n",
       "DELEGACIA_NOME              15\n",
       "DELEGACIA_CIRCUNSCRICAO      7\n",
       "ESPECIE                      5\n",
       "RUBRICA                      9\n",
       "DESDOBRAMENTO                3\n",
       "STATUS                       1\n",
       "NOMEPESSOA                   0\n",
       "TIPOPESSOA                   0\n",
       "                            ..\n",
       "Unnamed: 78                  8\n",
       "Unnamed: 79                  8\n",
       "Unnamed: 80                 11\n",
       "Unnamed: 81                 13\n",
       "Unnamed: 82                 13\n",
       "Unnamed: 83                 16\n",
       "Unnamed: 84                 18\n",
       "Unnamed: 85                 18\n",
       "Unnamed: 86                 14\n",
       "Unnamed: 87                 20\n",
       "Unnamed: 88                 22\n",
       "Unnamed: 89                 24\n",
       "Unnamed: 90                 22\n",
       "Unnamed: 91                 20\n",
       "Unnamed: 92                 23\n",
       "Unnamed: 93                 24\n",
       "Unnamed: 94                 23\n",
       "Unnamed: 95                 25\n",
       "Unnamed: 96                 27\n",
       "Unnamed: 97                 29\n",
       "Unnamed: 98                 29\n",
       "Unnamed: 99                 28\n",
       "Unnamed: 100                29\n",
       "Unnamed: 101                30\n",
       "Unnamed: 102                30\n",
       "Unnamed: 103                30\n",
       "Unnamed: 104                29\n",
       "Unnamed: 105                30\n",
       "Unnamed: 106                30\n",
       "Unnamed: 107                30\n",
       "Length: 108, dtype: int64"
      ]
     },
     "execution_count": 34,
     "metadata": {},
     "output_type": "execute_result"
    }
   ],
   "source": [
    "Df20191.isna().sum()"
   ]
  },
  {
   "cell_type": "code",
   "execution_count": null,
   "metadata": {},
   "outputs": [],
   "source": []
  },
  {
   "cell_type": "code",
   "execution_count": null,
   "metadata": {},
   "outputs": [],
   "source": []
  },
  {
   "cell_type": "code",
   "execution_count": null,
   "metadata": {},
   "outputs": [],
   "source": []
  },
  {
   "cell_type": "code",
   "execution_count": null,
   "metadata": {},
   "outputs": [],
   "source": []
  },
  {
   "cell_type": "code",
   "execution_count": null,
   "metadata": {},
   "outputs": [],
   "source": []
  },
  {
   "cell_type": "code",
   "execution_count": null,
   "metadata": {},
   "outputs": [],
   "source": []
  },
  {
   "cell_type": "code",
   "execution_count": null,
   "metadata": {},
   "outputs": [],
   "source": []
  },
  {
   "cell_type": "code",
   "execution_count": null,
   "metadata": {},
   "outputs": [],
   "source": []
  },
  {
   "cell_type": "code",
   "execution_count": null,
   "metadata": {},
   "outputs": [],
   "source": []
  },
  {
   "cell_type": "markdown",
   "metadata": {},
   "source": [
    "## Pré-processamento\n",
    "\n",
    "Antes de analisar, caso necessário, realiza um procedimento de limpeza de dados, como remover duplicados, tratar strings, converter dados para outros formatos, criar novas colunas como dia do mês, da semana e mês.\n",
    "\n",
    "**P.S.**: *Essa pode ser a fase mais demorada de todo o desafio.*"
   ]
  },
  {
   "cell_type": "code",
   "execution_count": null,
   "metadata": {},
   "outputs": [],
   "source": [
    "# REMOVENDO DADOS DUPLICADOS\n",
    "\n",
    "# TRANSFORMANDO STRINGS PARA LOWER CASE\n",
    "\n",
    "# PADRONIZANDO STRING\n",
    "\n",
    "# TRANSFORMANDO DADOS TEMPORAIS NO TIPO APROPRIADO"
   ]
  },
  {
   "cell_type": "markdown",
   "metadata": {},
   "source": [
    "## Análise Exploratória\n",
    "\n",
    "Agora é a hora de descobrir relações e algumas *hidden informations* do dataset. "
   ]
  },
  {
   "cell_type": "code",
   "execution_count": null,
   "metadata": {},
   "outputs": [],
   "source": []
  }
 ],
 "metadata": {
  "kernelspec": {
   "display_name": "Python 3",
   "language": "python",
   "name": "python3"
  },
  "language_info": {
   "codemirror_mode": {
    "name": "ipython",
    "version": 3
   },
   "file_extension": ".py",
   "mimetype": "text/x-python",
   "name": "python",
   "nbconvert_exporter": "python",
   "pygments_lexer": "ipython3",
   "version": "3.7.3"
  }
 },
 "nbformat": 4,
 "nbformat_minor": 2
}
