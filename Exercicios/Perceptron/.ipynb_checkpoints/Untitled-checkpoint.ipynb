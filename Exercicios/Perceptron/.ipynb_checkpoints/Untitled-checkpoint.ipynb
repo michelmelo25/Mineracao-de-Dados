{
 "cells": [
  {
   "cell_type": "code",
   "execution_count": 60,
   "metadata": {},
   "outputs": [],
   "source": [
    "from sklearn.datasets import load_iris\n",
    "from sklearn.model_selection import train_test_split\n",
    "import numpy as np\n",
    "import pandas as pd"
   ]
  },
  {
   "cell_type": "code",
   "execution_count": 76,
   "metadata": {},
   "outputs": [],
   "source": [
    "df = load_iris()"
   ]
  },
  {
   "cell_type": "code",
   "execution_count": 77,
   "metadata": {},
   "outputs": [],
   "source": [
    "#df.target = np.where(df.target == 2, 1, -1)"
   ]
  },
  {
   "cell_type": "code",
   "execution_count": 78,
   "metadata": {},
   "outputs": [],
   "source": [
    "#(X_train, X_test, y_train, y_test) = train_test_split(np.array(df.data),\n",
    "#df.target, test_size=0.25, random_state=42)"
   ]
  },
  {
   "cell_type": "code",
   "execution_count": 64,
   "metadata": {},
   "outputs": [],
   "source": [
    "import perceptron as percp\n",
    "from importlib import reload"
   ]
  },
  {
   "cell_type": "code",
   "execution_count": 65,
   "metadata": {},
   "outputs": [
    {
     "data": {
      "text/plain": [
       "<module 'perceptron' from '/home/michel/Documentos/Mineracao-de-Dados/Exercicios/Perceptron/perceptron.py'>"
      ]
     },
     "execution_count": 65,
     "metadata": {},
     "output_type": "execute_result"
    }
   ],
   "source": [
    "reload(percp)"
   ]
  },
  {
   "cell_type": "code",
   "execution_count": 79,
   "metadata": {},
   "outputs": [],
   "source": [
    "#model = percp.Perceptron(n_iter=100)\n",
    "#model.fit(X_train,y_train)\n",
    "#y_pred = model.predict(X_test)"
   ]
  },
  {
   "cell_type": "code",
   "execution_count": 67,
   "metadata": {},
   "outputs": [],
   "source": [
    "from sklearn import metrics"
   ]
  },
  {
   "cell_type": "code",
   "execution_count": 81,
   "metadata": {},
   "outputs": [],
   "source": [
    "# metri = {\n",
    "\n",
    "#     'Accuracy': [metrics.accuracy_score(y_test,y_pred)],\n",
    "#     'Precision': [metrics.precision_score(y_test,y_pred)],\n",
    "#     'F1_Score': [metrics.f1_score(y_test,y_pred)],\n",
    "#     'MAE': [metrics.mean_absolute_error(y_test,y_pred)]\n",
    "# }"
   ]
  },
  {
   "cell_type": "code",
   "execution_count": 82,
   "metadata": {},
   "outputs": [
    {
     "data": {
      "text/html": [
       "<div>\n",
       "<style scoped>\n",
       "    .dataframe tbody tr th:only-of-type {\n",
       "        vertical-align: middle;\n",
       "    }\n",
       "\n",
       "    .dataframe tbody tr th {\n",
       "        vertical-align: top;\n",
       "    }\n",
       "\n",
       "    .dataframe thead th {\n",
       "        text-align: right;\n",
       "    }\n",
       "</style>\n",
       "<table border=\"1\" class=\"dataframe\">\n",
       "  <thead>\n",
       "    <tr style=\"text-align: right;\">\n",
       "      <th></th>\n",
       "      <th>Accuracy</th>\n",
       "      <th>Precision</th>\n",
       "      <th>F1_Score</th>\n",
       "      <th>MAE</th>\n",
       "    </tr>\n",
       "  </thead>\n",
       "  <tbody>\n",
       "    <tr>\n",
       "      <th>0</th>\n",
       "      <td>0.973684</td>\n",
       "      <td>0.923077</td>\n",
       "      <td>0.96</td>\n",
       "      <td>0.052632</td>\n",
       "    </tr>\n",
       "  </tbody>\n",
       "</table>\n",
       "</div>"
      ],
      "text/plain": [
       "   Accuracy  Precision  F1_Score       MAE\n",
       "0  0.973684   0.923077      0.96  0.052632"
      ]
     },
     "execution_count": 82,
     "metadata": {},
     "output_type": "execute_result"
    }
   ],
   "source": [
    "pd.DataFrame(metri)"
   ]
  },
  {
   "cell_type": "code",
   "execution_count": 83,
   "metadata": {},
   "outputs": [],
   "source": [
    "def Setosa(Data):\n",
    "    Data.target = np.where(Data.target == 0, 1, -1)\n",
    "    (X_train, X_test, y_train, y_test) = train_test_split(np.array(Data.data), \n",
    "                                                          Data.target, test_size=0.25, random_state=42)\n",
    "    model = percp.Perceptron(n_iter=100)\n",
    "    model.fit(X_train,y_train)\n",
    "    y_pred = model.predict(X_test)\n",
    "    metri = {\n",
    "\n",
    "    'Accuracy': [metrics.accuracy_score(y_test,y_pred)],\n",
    "    'Precision': [metrics.precision_score(y_test,y_pred)],\n",
    "    'F1_Score': [metrics.f1_score(y_test,y_pred)],\n",
    "    'MAE': [metrics.mean_absolute_error(y_test,y_pred)]\n",
    "    }\n",
    "    return pd.DataFrame(metri)"
   ]
  },
  {
   "cell_type": "code",
   "execution_count": 86,
   "metadata": {},
   "outputs": [],
   "source": [
    "def Versicolor(Data):\n",
    "    Data.target = np.where(Data.target == 1, 1, -1)\n",
    "    (X_train, X_test, y_train, y_test) = train_test_split(np.array(Data.data), \n",
    "                                                          Data.target, test_size=0.25, random_state=42)\n",
    "    model = percp.Perceptron(n_iter=100)\n",
    "    model.fit(X_train,y_train)\n",
    "    y_pred = model.predict(X_test)\n",
    "    metri = {\n",
    "\n",
    "    'Accuracy': [metrics.accuracy_score(y_test,y_pred)],\n",
    "    'Precision': [metrics.precision_score(y_test,y_pred)],\n",
    "    'F1_Score': [metrics.f1_score(y_test,y_pred)],\n",
    "    'MAE': [metrics.mean_absolute_error(y_test,y_pred)]\n",
    "    }\n",
    "    return pd.DataFrame(metri)"
   ]
  },
  {
   "cell_type": "code",
   "execution_count": 87,
   "metadata": {},
   "outputs": [],
   "source": [
    "def Virginica(Data):\n",
    "    Data.target = np.where(Data.target == 1, 1, -1)\n",
    "    (X_train, X_test, y_train, y_test) = train_test_split(np.array(Data.data), \n",
    "                                                          Data.target, test_size=0.25, random_state=42)\n",
    "    model = percp.Perceptron(n_iter=100)\n",
    "    model.fit(X_train,y_train)\n",
    "    y_pred = model.predict(X_test)\n",
    "    metri = {\n",
    "\n",
    "    'Accuracy': [metrics.accuracy_score(y_test,y_pred)],\n",
    "    'Precision': [metrics.precision_score(y_test,y_pred)],\n",
    "    'F1_Score': [metrics.f1_score(y_test,y_pred)],\n",
    "    'MAE': [metrics.mean_absolute_error(y_test,y_pred)]\n",
    "    }\n",
    "    return pd.DataFrame(metri)"
   ]
  },
  {
   "cell_type": "code",
   "execution_count": null,
   "metadata": {},
   "outputs": [],
   "source": []
  },
  {
   "cell_type": "code",
   "execution_count": null,
   "metadata": {},
   "outputs": [],
   "source": []
  },
  {
   "cell_type": "code",
   "execution_count": null,
   "metadata": {},
   "outputs": [],
   "source": []
  }
 ],
 "metadata": {
  "kernelspec": {
   "display_name": "Python 3",
   "language": "python",
   "name": "python3"
  },
  "language_info": {
   "codemirror_mode": {
    "name": "ipython",
    "version": 3
   },
   "file_extension": ".py",
   "mimetype": "text/x-python",
   "name": "python",
   "nbconvert_exporter": "python",
   "pygments_lexer": "ipython3",
   "version": "3.7.3"
  }
 },
 "nbformat": 4,
 "nbformat_minor": 2
}
